{
 "cells": [
  {
   "cell_type": "markdown",
   "id": "39d0d6bf",
   "metadata": {},
   "source": [
    "## USED DEFINED FUNCTIONS ##"
   ]
  },
  {
   "cell_type": "markdown",
   "id": "d109f371",
   "metadata": {},
   "source": [
    "### Le funzioni user-defined possono implementare del codice da utilizzare nella stessa forma tutte le volte che viene richiamata. La keyword è def ###"
   ]
  },
  {
   "cell_type": "code",
   "execution_count": 1,
   "id": "ec4648da",
   "metadata": {},
   "outputs": [],
   "source": [
    "# Sintassi per la definizione di una funzione: \n",
    "\n",
    "# def function_name(args):\n",
    "#   codice identato\n",
    "\n",
    "def function(param1, param2):\n",
    "    # codice che fa qualcosa\n",
    "    pass\n",
    "\n",
    "# NB: la keyword pass non fa niente e serve tutte le volte che una riga vuota\n",
    "# darebbe errore\n",
    "\n"
   ]
  },
  {
   "cell_type": "code",
   "execution_count": null,
   "id": "63b9b669",
   "metadata": {},
   "outputs": [],
   "source": [
    "# Esempio: funzione senza argomenti\n",
    "\n",
    "def func():\n",
    "    print(\"Il codice non dipende da argomenti\")\n",
    "    print(\"Però può sfruttare variabili definite nelle righe precedenti alla definizione.\")\n",
    "    print(\"In questo caso non sarebbe di utilizzo generale ma non significa che non sia utile.\")\n"
   ]
  },
  {
   "cell_type": "code",
   "execution_count": 3,
   "id": "4592323c",
   "metadata": {},
   "outputs": [
    {
     "name": "stdout",
     "output_type": "stream",
     "text": [
      "Il codice non dipende da aargomenti\n",
      "Però può sfruttare variabili definite nelle righe precedenti alla definizione.\n",
      "In questo caso non sarebbe di utilizzo generale ma non significa che non sia utile.\n"
     ]
    }
   ],
   "source": [
    "# Per il richiamo della funzione serve il nome seguito dalle parentesi che ci\n",
    "# siano argomenti oppure no.\n",
    "\n",
    "func()"
   ]
  },
  {
   "cell_type": "code",
   "execution_count": 5,
   "id": "b581bf33",
   "metadata": {},
   "outputs": [
    {
     "name": "stdout",
     "output_type": "stream",
     "text": [
      "7\n",
      "11\n"
     ]
    }
   ],
   "source": [
    "# Esempio: funzione con argomenti\n",
    "\n",
    "def printsum(x, y):\n",
    "    z = x + y\n",
    "    print(z)\n",
    "\n",
    "printsum(3,4)\n",
    "printsum(4,7)"
   ]
  },
  {
   "cell_type": "markdown",
   "id": "7863929b",
   "metadata": {},
   "source": [
    "### Restituzione di oggetti ###"
   ]
  },
  {
   "cell_type": "code",
   "execution_count": 6,
   "id": "820d1d84",
   "metadata": {},
   "outputs": [
    {
     "data": {
      "text/plain": [
       "5"
      ]
     },
     "execution_count": 6,
     "metadata": {},
     "output_type": "execute_result"
    }
   ],
   "source": [
    "# La funzione può restituire qualcosa tramite la keyword return.\n",
    "# Per esempio:\n",
    "\n",
    "def mysum(x,y):\n",
    "    z = x+y\n",
    "    return z\n",
    "\n",
    "# Proviamo a chiamare semplicemente la funzione:\n",
    "\n",
    "mysum(1,4)"
   ]
  },
  {
   "cell_type": "code",
   "execution_count": null,
   "id": "8271b5df",
   "metadata": {},
   "outputs": [
    {
     "name": "stdout",
     "output_type": "stream",
     "text": [
      "La somma di 4 e 5 è 9\n"
     ]
    }
   ],
   "source": [
    "# Essa ci restituisce il valore del calcolo, quindi lo possiamo asseganre\n",
    "# a un'altra variabile:\n",
    "\n",
    "n1, n2 = 4, 5\n",
    "\n",
    "somma = mysum(n1, n2)\n",
    "\n",
    "print(f\"La somma di {n1} e {n2} è {somma}.\")"
   ]
  },
  {
   "cell_type": "code",
   "execution_count": 11,
   "id": "0c015ace",
   "metadata": {},
   "outputs": [
    {
     "name": "stdout",
     "output_type": "stream",
     "text": [
      "Il valore inserito non è numerico.\n",
      "None\n",
      "\n",
      "15\n",
      "30\n",
      "2.23606797749979\n"
     ]
    }
   ],
   "source": [
    "# ESEMPIO 1: Definiamo una nostra funzione modulo senza abs(), che restituisce\n",
    "# il valore assoluto di un numero reale o complesso (il modulo) \n",
    "\n",
    "import math\n",
    "\n",
    "def modulus(x):\n",
    "\n",
    "    # controllo di tipo (sanificazione dell'input)\n",
    "    if type(x) != int and type(x)!=float and type(x)!=complex:\n",
    "        print(\"Il valore inserito non è numerico.\")\n",
    "\n",
    "    elif type(x)==complex:\n",
    "        return math.sqrt(x.real**2 + x.imag**2)\n",
    "    \n",
    "    else:\n",
    "        if x>=0: return x\n",
    "        else: return -x\n",
    "\n",
    "print(modulus(\"bologna\"))\n",
    "print()\n",
    "print(modulus(15))\n",
    "print(modulus(-30))\n",
    "print(modulus(1+2j))"
   ]
  },
  {
   "cell_type": "code",
   "execution_count": 12,
   "id": "d5713b8f",
   "metadata": {},
   "outputs": [],
   "source": [
    "# ESEMPIO 2: Funzione che genera una password scegliendo ogni carattere\n",
    "# casulamente da una lista di simboli\n",
    "\n",
    "import random, string\n",
    "\n",
    "def pwgen(length):\n",
    "\n",
    "    # definisco una stringa contenente i caratteri da cui pescare\n",
    "    # e una stringa vuota da riempire col risultato\n",
    "    chars = string.ascii_letters + string.digits + \"@#_%$\"\n",
    "    password = \"\"\n",
    "\n",
    "    # riepmpio la stringa vuota\n",
    "    for i in range(length):\n",
    "        password += random.choice(chars)\n",
    "    \n",
    "    return password"
   ]
  },
  {
   "cell_type": "code",
   "execution_count": 13,
   "id": "62ebe035",
   "metadata": {},
   "outputs": [
    {
     "data": {
      "text/plain": [
       "'a4H8vDOA'"
      ]
     },
     "execution_count": 13,
     "metadata": {},
     "output_type": "execute_result"
    }
   ],
   "source": [
    "pwgen(8)"
   ]
  },
  {
   "cell_type": "markdown",
   "id": "904e726a",
   "metadata": {},
   "source": [
    "### NOTA: L'oggetto restituito può essere monodimensionale o multidimensionale, di qualsiasi tipologia. PEr esempio una lista in cui il 1° elemento è una stringa, il secondo è una tupla di dizionari, .... ###"
   ]
  },
  {
   "cell_type": "code",
   "execution_count": null,
   "id": "860914ce",
   "metadata": {},
   "outputs": [
    {
     "name": "stdout",
     "output_type": "stream",
     "text": [
      "name= prima_sequenza\n",
      "sequence = [0.9357415536339191, 0.2168703173358485, 0.05237564572760478, 0.155696394145045, 0.6023650751991166]\n"
     ]
    }
   ],
   "source": [
    "# ESEMPIO 3: genero una sequenza di numeri casuali di lungheza \"n\" e nome \"name\"\n",
    "\n",
    "import random\n",
    "\n",
    "def sequenceGen(name, n):\n",
    "\n",
    "    result = []\n",
    "    for i in range(n):\n",
    "        result.append(random.random())\n",
    "    \n",
    "    return name, result\n",
    "\n",
    "name, sequence = sequenceGen(\"prima_sequenza\", 5)\n",
    "\n",
    "print(\"name=\", name)\n",
    "print(\"sequence =\", sequence)\n"
   ]
  },
  {
   "cell_type": "markdown",
   "id": "e8caa92c",
   "metadata": {},
   "source": [
    "### Qualche esercizio...\n",
    "\n",
    "0. aggiungere la seguente sanificazione dell'input nella funzione sequenceGen():\n",
    "\n",
    "- il nome deve essere una stringa  \n",
    "- la lunghezza deve essere un numero (ok anche float, la funzione in quel caso arrotonda a intero e lo usa comunque)\n",
    "\n",
    " ###"
   ]
  },
  {
   "cell_type": "code",
   "execution_count": null,
   "id": "c9155898",
   "metadata": {},
   "outputs": [
    {
     "name": "stdout",
     "output_type": "stream",
     "text": [
      "Per favore inserisci una stringa come nome.\n",
      "name = None\n",
      "sequence = None\n",
      "\n",
      "Inserisci una valore numerico per la lunghezza.\n",
      "name = None\n",
      "sequence = None\n",
      "\n",
      "Inserisci una valore numerico per la lunghezza.\n",
      "name = None\n",
      "sequence = None\n",
      "\n",
      "name = first\n",
      "sequence = [0.3866962941278498, 0.3606027678987669]\n",
      "\n"
     ]
    }
   ],
   "source": [
    "import random\n",
    "\n",
    "def sequenceGen(name, n):\n",
    "\n",
    "    if type(name)!=str:\n",
    "        print(\"Per favore inserisci una stringa come nome.\")\n",
    "        return None, None # qusto per non eseguire il codice sotto\n",
    "    \n",
    "    if type(n)!=int and type(n) != float:\n",
    "        print(\"Inserisci un valore numerico per la lunghezza.\")\n",
    "        return None, None\n",
    "\n",
    "    if type(n)==float:\n",
    "        n = round(n)\n",
    "\n",
    "    result = []\n",
    "    for i in range(n):\n",
    "        result.append(random.random())\n",
    "    \n",
    "    return name, result\n",
    "\n",
    "# Facciamo qualche prova\n",
    "\n",
    "name, sequence = sequenceGen(23,20)\n",
    "print(\"name =\", name)\n",
    "print(\"sequence =\", sequence)\n",
    "print()\n",
    "\n",
    "name, sequence = sequenceGen(\"first\",20+8j)\n",
    "print(\"name =\", name)\n",
    "print(\"sequence =\", sequence)\n",
    "print()\n",
    "\n",
    "name, sequence = sequenceGen(\"first\", \"20\")\n",
    "print(\"name =\", name)\n",
    "print(\"sequence =\", sequence)\n",
    "print()\n",
    "\n",
    "name, sequence = sequenceGen(\"first\",2.45)\n",
    "print(\"name =\", name)\n",
    "print(\"sequence =\", sequence)\n",
    "print()"
   ]
  },
  {
   "cell_type": "markdown",
   "id": "0a253017",
   "metadata": {},
   "source": [
    "### 1. Scrivere una funzione che restituisca il minimo fra due numeri senza usare min() e similari ###"
   ]
  },
  {
   "cell_type": "code",
   "execution_count": 21,
   "id": "61b49929",
   "metadata": {},
   "outputs": [
    {
     "data": {
      "text/plain": [
       "3"
      ]
     },
     "execution_count": 21,
     "metadata": {},
     "output_type": "execute_result"
    }
   ],
   "source": [
    "def minimun_2_values(a, b):\n",
    "    if a < b:\n",
    "        return a\n",
    "    else:\n",
    "        return b\n",
    "    \n",
    "minimun_2_values(12, 3)"
   ]
  },
  {
   "cell_type": "markdown",
   "id": "290480ca",
   "metadata": {},
   "source": [
    "### 2. Scrivere una funzione che restituisca il minimo fra 3 numeri ###"
   ]
  },
  {
   "cell_type": "code",
   "execution_count": 22,
   "id": "f0121974",
   "metadata": {},
   "outputs": [
    {
     "data": {
      "text/plain": [
       "4"
      ]
     },
     "execution_count": 22,
     "metadata": {},
     "output_type": "execute_result"
    }
   ],
   "source": [
    "def minimum_3_values(a,b,c):\n",
    "    return minimun_2_values(a, minimun_2_values(b, c))\n",
    "\n",
    "minimum_3_values(12, 4, 7)"
   ]
  },
  {
   "cell_type": "markdown",
   "id": "901885ca",
   "metadata": {},
   "source": [
    "### 3. Scrivere una funzione che controlli se una stringa è palindroma ###"
   ]
  },
  {
   "cell_type": "code",
   "execution_count": 24,
   "id": "8fb1975a",
   "metadata": {},
   "outputs": [
    {
     "data": {
      "text/plain": [
       "False"
      ]
     },
     "execution_count": 24,
     "metadata": {},
     "output_type": "execute_result"
    }
   ],
   "source": [
    "def isPalindrome(string):\n",
    "    for i in range(len(string)//2 ):\n",
    "        if string[i] == string[len(string)-1-i]:\n",
    "            pass\n",
    "        else: \n",
    "            return False\n",
    "    return True\n",
    "\n",
    "isPalindrome(\"osso\")\n",
    "isPalindrome(\"montagna\")"
   ]
  },
  {
   "cell_type": "code",
   "execution_count": 27,
   "id": "057b74f1",
   "metadata": {},
   "outputs": [
    {
     "data": {
      "text/plain": [
       "True"
      ]
     },
     "execution_count": 27,
     "metadata": {},
     "output_type": "execute_result"
    }
   ],
   "source": [
    "# Altro modo:\n",
    "\n",
    "def isPalindrome(string):\n",
    "    return string == string[::-1]\n",
    "\n",
    "isPalindrome(\"ababa\")"
   ]
  },
  {
   "cell_type": "markdown",
   "id": "87fcee69",
   "metadata": {},
   "source": [
    "### 4. Scrivere una funzione che accetti una lista e la restituisca priva degli elementi ripetuti Es [1,2,2,3] -> [1,2,3] ###"
   ]
  },
  {
   "cell_type": "code",
   "execution_count": 28,
   "id": "a1d1bb49",
   "metadata": {},
   "outputs": [
    {
     "data": {
      "text/plain": [
       "[1, 2, 3, 5, 8]"
      ]
     },
     "execution_count": 28,
     "metadata": {},
     "output_type": "execute_result"
    }
   ],
   "source": [
    "def cleanList(lista): \n",
    "    result = []\n",
    "    for el in lista:\n",
    "        if el not in result:\n",
    "            result.append(el)\n",
    "    return result\n",
    "\n",
    "cleanList([1,2,2,2,3,3,5,5,8])"
   ]
  },
  {
   "cell_type": "markdown",
   "id": "963e3ad7",
   "metadata": {},
   "source": [
    "### 5. Scrivere una funzione che prenda una stringa e la restituisca con la prima lettera di ogni parola maiuscola. ###"
   ]
  },
  {
   "cell_type": "code",
   "execution_count": null,
   "id": "e6fc121f",
   "metadata": {},
   "outputs": [],
   "source": []
  },
  {
   "cell_type": "markdown",
   "id": "caca1b4f",
   "metadata": {},
   "source": [
    "### Passaggio degli argomenti ###"
   ]
  },
  {
   "cell_type": "markdown",
   "id": "145b7b74",
   "metadata": {},
   "source": [
    "### Gli argomenti come usati finora si chiamano 'positional arguments' e si devono fornire obbligatoriamente quando si chiama la funzione. Inoltre, l'ordine conta, altrimenti vengono assegnati alle vriabili sbagliate. Si possono secificare anche delle variabili provviste di valore di default come argument=value, ma devono venire dopo i positional ###"
   ]
  },
  {
   "cell_type": "code",
   "execution_count": 29,
   "id": "67032704",
   "metadata": {},
   "outputs": [],
   "source": [
    "# Aggiungiamo alla funzione generatrice di password un argomento con un\n",
    "# valore di default, \"numeric\", booleano che in caso sia True forza\n",
    "# la funzione a generare una stringa puramente numerica\n",
    "\n",
    "import random, string\n",
    "\n",
    "\n",
    "def pwgen(length, numeric=False):\n",
    "\n",
    "    if not numeric:\n",
    "        chars = string.ascii_letters + string.digits + \"@#?_%$\"\n",
    "    else:\n",
    "        chars = \"0123456789\"\n",
    "    \n",
    "    password = \"\"\n",
    "\n",
    "    for i in range(length):\n",
    "        password += random.choice(chars)\n",
    "    \n",
    "    return password\n"
   ]
  },
  {
   "cell_type": "code",
   "execution_count": 33,
   "id": "b25f34ff",
   "metadata": {},
   "outputs": [
    {
     "name": "stdout",
     "output_type": "stream",
     "text": [
      "3wgN0WZAu6\n",
      "9795038474\n",
      "7699706419\n",
      "Tk?LRq8lE6\n"
     ]
    }
   ],
   "source": [
    "# La chiamata si può fare in diversi modi. Si può specificare il nome\n",
    "# delle variabili con default values oppure no. \n",
    "\n",
    "print( pwgen(10) )\n",
    "print( pwgen(10, numeric=True))\n",
    "print( pwgen(10, True))\n",
    "\n",
    "# Se esplicito il nome di tutte le vrbl l'ordine non conta.\n",
    "print( pwgen(numeric=False, length=10) )"
   ]
  },
  {
   "cell_type": "markdown",
   "id": "b774b5c3",
   "metadata": {},
   "source": [
    "### Gli argomenti 'tuple-packed' ###"
   ]
  },
  {
   "cell_type": "markdown",
   "id": "50b8f36f",
   "metadata": {},
   "source": [
    "### E' possibile avere un numero non specificato di argomenti. Un argomento con asterisco * anteposto al nome della vrbl rappresenta una lista di argomenti di lunghezza non specificata. ###"
   ]
  },
  {
   "cell_type": "code",
   "execution_count": 35,
   "id": "bcf0176f",
   "metadata": {},
   "outputs": [],
   "source": [
    "# Esempio \n",
    "\n",
    "def f(*args):\n",
    "    for x in args:\n",
    "        print(x)"
   ]
  },
  {
   "cell_type": "code",
   "execution_count": 37,
   "id": "d0ed4e9a",
   "metadata": {},
   "outputs": [
    {
     "name": "stdout",
     "output_type": "stream",
     "text": [
      "1\n",
      "2\n",
      "apple\n",
      "[2, 3, 4]\n"
     ]
    }
   ],
   "source": [
    "# Come uso nella pratica? Chiamo la funzione con ul numero di argomenti desiderato\n",
    "\n",
    "f(1,2, 'apple', [2,3,4])"
   ]
  },
  {
   "cell_type": "code",
   "execution_count": 38,
   "id": "0758e04c",
   "metadata": {},
   "outputs": [],
   "source": [
    "# Il numero degli argomenti può anche essere zero!\n",
    "\n",
    "f()"
   ]
  },
  {
   "cell_type": "code",
   "execution_count": 39,
   "id": "ad89e957",
   "metadata": {},
   "outputs": [],
   "source": [
    "# Infatti la chiamata non genera errori.\n",
    "# Altro esempio:\n",
    "\n",
    "def average(*args):\n",
    "    return sum(args) / len(args)"
   ]
  },
  {
   "cell_type": "code",
   "execution_count": 40,
   "id": "dca277ef",
   "metadata": {},
   "outputs": [
    {
     "data": {
      "text/plain": [
       "1.5"
      ]
     },
     "execution_count": 40,
     "metadata": {},
     "output_type": "execute_result"
    }
   ],
   "source": [
    "average(1,2)"
   ]
  },
  {
   "cell_type": "code",
   "execution_count": 41,
   "id": "3120adaa",
   "metadata": {},
   "outputs": [
    {
     "data": {
      "text/plain": [
       "9.428571428571429"
      ]
     },
     "execution_count": 41,
     "metadata": {},
     "output_type": "execute_result"
    }
   ],
   "source": [
    "average(2,4,5,6,7,8,34)"
   ]
  },
  {
   "cell_type": "code",
   "execution_count": 42,
   "id": "f349dc93",
   "metadata": {},
   "outputs": [
    {
     "ename": "ZeroDivisionError",
     "evalue": "division by zero",
     "output_type": "error",
     "traceback": [
      "\u001b[0;31m---------------------------------------------------------------------------\u001b[0m",
      "\u001b[0;31mZeroDivisionError\u001b[0m                         Traceback (most recent call last)",
      "Cell \u001b[0;32mIn[42], line 4\u001b[0m\n\u001b[1;32m      1\u001b[0m \u001b[38;5;66;03m# In questo caso la chiamata senza argomenti genera errore, ma solo perché\u001b[39;00m\n\u001b[1;32m      2\u001b[0m \u001b[38;5;66;03m# ho una divisione per zero\u001b[39;00m\n\u001b[0;32m----> 4\u001b[0m \u001b[43maverage\u001b[49m\u001b[43m(\u001b[49m\u001b[43m)\u001b[49m\n",
      "Cell \u001b[0;32mIn[39], line 5\u001b[0m, in \u001b[0;36maverage\u001b[0;34m(*args)\u001b[0m\n\u001b[1;32m      4\u001b[0m \u001b[38;5;28;01mdef\u001b[39;00m \u001b[38;5;21maverage\u001b[39m(\u001b[38;5;241m*\u001b[39margs):\n\u001b[0;32m----> 5\u001b[0m     \u001b[38;5;28;01mreturn\u001b[39;00m \u001b[38;5;28;43msum\u001b[39;49m\u001b[43m(\u001b[49m\u001b[43margs\u001b[49m\u001b[43m)\u001b[49m\u001b[43m \u001b[49m\u001b[38;5;241;43m/\u001b[39;49m\u001b[43m \u001b[49m\u001b[38;5;28;43mlen\u001b[39;49m\u001b[43m(\u001b[49m\u001b[43margs\u001b[49m\u001b[43m)\u001b[49m\n",
      "\u001b[0;31mZeroDivisionError\u001b[0m: division by zero"
     ]
    }
   ],
   "source": [
    "# In questo caso la chiamata senza argomenti genera errore, ma solo perché\n",
    "# ho una divisione per zero\n",
    "\n",
    "average()"
   ]
  },
  {
   "cell_type": "code",
   "execution_count": 44,
   "id": "a146ce31",
   "metadata": {},
   "outputs": [
    {
     "data": {
      "text/plain": [
       "3.0"
      ]
     },
     "execution_count": 44,
     "metadata": {},
     "output_type": "execute_result"
    }
   ],
   "source": [
    "# Naturalmente, si possono usare assieme agli argomenti posizionali\n",
    "\n",
    "def average(num1, num2, *nums):\n",
    "    res = num1 + num2 + sum(nums)\n",
    "    return res / (len(nums) + 2)\n",
    "\n",
    "average(1,2,4,5)"
   ]
  },
  {
   "cell_type": "code",
   "execution_count": 45,
   "id": "0ecb8849",
   "metadata": {},
   "outputs": [
    {
     "data": {
      "text/plain": [
       "1.5"
      ]
     },
     "execution_count": 45,
     "metadata": {},
     "output_type": "execute_result"
    }
   ],
   "source": [
    "# Inoltre, come già visto, possono essere una tupla vuota:\n",
    "\n",
    "average(1,2)"
   ]
  },
  {
   "cell_type": "markdown",
   "id": "9ca87d67",
   "metadata": {},
   "source": [
    "### Unpacking degli argomenti-tupla ###"
   ]
  },
  {
   "cell_type": "code",
   "execution_count": 1,
   "id": "42709158",
   "metadata": {},
   "outputs": [
    {
     "data": {
      "text/plain": [
       "'Star Wars is a fantasy saga.'"
      ]
     },
     "execution_count": 1,
     "metadata": {},
     "output_type": "execute_result"
    }
   ],
   "source": [
    "# Supponiamo di dover concatenare delle stringhe\n",
    "\n",
    "def concatenate_strings(*strings):\n",
    "    result = \"\"\n",
    "    for s in strings:\n",
    "        result += s\n",
    "    return result\n",
    "\n",
    "concatenate_strings(\"Star Wars\", \" is \", \"a \", \"fantasy saga.\")"
   ]
  },
  {
   "cell_type": "code",
   "execution_count": 51,
   "id": "d912cf66",
   "metadata": {},
   "outputs": [
    {
     "data": {
      "text/plain": [
       "'Star Wars is a fantasy saga.'"
      ]
     },
     "execution_count": 51,
     "metadata": {},
     "output_type": "execute_result"
    }
   ],
   "source": [
    "# L'unpacking funziona anche al contrario\n",
    "\n",
    "stringhe = (\"Star Wars\", \" is \" \"a \", \"fantasy saga.\")\n",
    "\n",
    "concatenate_strings(*stringhe)"
   ]
  },
  {
   "cell_type": "code",
   "execution_count": 53,
   "id": "0fdceb4f",
   "metadata": {},
   "outputs": [
    {
     "name": "stdout",
     "output_type": "stream",
     "text": [
      "('Star Wars', ' is a ', 'fantasy saga.')\n",
      "Star Wars  is a  fantasy saga.\n"
     ]
    }
   ],
   "source": [
    "# Nota: l'operatore * usato prima di un iterable si chiama operatore di\n",
    "# unpacking e ha utilizzo abbastanza generale. Esempio:\n",
    "\n",
    "print(stringhe)\n",
    "print(*stringhe)"
   ]
  },
  {
   "cell_type": "code",
   "execution_count": 55,
   "id": "d9f1839f",
   "metadata": {},
   "outputs": [
    {
     "data": {
      "text/plain": [
       "(0, 1, 2, 3, 4)"
      ]
     },
     "execution_count": 55,
     "metadata": {},
     "output_type": "execute_result"
    }
   ],
   "source": [
    "# Proviamo con un iteratore di altro tipo:\n",
    "\n",
    "*range(5),"
   ]
  },
  {
   "cell_type": "code",
   "execution_count": 56,
   "id": "5f5c0153",
   "metadata": {},
   "outputs": [
    {
     "name": "stdout",
     "output_type": "stream",
     "text": [
      "['c', 'i', ' ', 'v', 'e', 'd', 'i', 'a', 'm', 'o', ' ', 'd', 'o', 'm', 'a', 'n', 'i']\n"
     ]
    }
   ],
   "source": [
    "# Si può usare negli assigment:\n",
    "\n",
    "*caratteri, = \"ci vediamo domani\"\n",
    "print(caratteri)"
   ]
  },
  {
   "cell_type": "code",
   "execution_count": 57,
   "id": "e13baf7a",
   "metadata": {},
   "outputs": [
    {
     "name": "stdout",
     "output_type": "stream",
     "text": [
      "[1, 2, 3, 4, 5, 6]\n"
     ]
    }
   ],
   "source": [
    "# Oppure per concatenare liste:\n",
    "\n",
    "l1 = [1,2,3]\n",
    "l2 = [4,5,6]\n",
    "\n",
    "l = [*l1, *l2]\n",
    "print(l)"
   ]
  },
  {
   "cell_type": "markdown",
   "id": "72ee9200",
   "metadata": {},
   "source": [
    "### Argomenti dictionary-packed ###"
   ]
  },
  {
   "cell_type": "markdown",
   "id": "8295e709",
   "metadata": {},
   "source": [
    "### Similarmente all'asterisco, un doppio asterisco anteposto al nome di un argomento, specifica che esso viene dato in forma di coppie key=value, in numero arbitrario. La funzionalità è poter fornire un numero arbitrario di argomenti provvisti di nome ###"
   ]
  },
  {
   "cell_type": "code",
   "execution_count": null,
   "id": "66b325c8",
   "metadata": {},
   "outputs": [
    {
     "name": "stdout",
     "output_type": "stream",
     "text": [
      "kwargs = {'a': 23, 'b': 15, 'c': 44}\n",
      "\n",
      "type(kwargs) = <class 'dict'>\n",
      "\n",
      "items:\n",
      "a 23\n",
      "b 15\n",
      "c 44\n"
     ]
    }
   ],
   "source": [
    "# Vediamo come funziona\n",
    "\n",
    "def f(**kwargs):\n",
    "    print(\"kwargs =\", kwargs)\n",
    "    print()\n",
    "    print(\"type(kwargs) =\", type(kwargs))\n",
    "    print()\n",
    "    print(\"items:\")\n",
    "    for k,v in kwargs.items():\n",
    "        print(k, v)\n",
    "\n",
    "\n",
    "f(a=23, b=15, c=44)"
   ]
  },
  {
   "cell_type": "code",
   "execution_count": null,
   "id": "ab81fad3",
   "metadata": {},
   "outputs": [
    {
     "name": "stdout",
     "output_type": "stream",
     "text": [
      "kwargs = {'fiat': 1899, 'audi': 1909, 'Chrysler': 1925}\n",
      "\n",
      "type(kwargs) = <class 'dict'>\n",
      "\n",
      "items:\n",
      "fiat 1899\n",
      "audi 1909\n",
      "Chrysler 1925\n"
     ]
    }
   ],
   "source": [
    "# Anche con l'operatore doppio asterisco si può fare l'unpacking, ma solo di dizionari:\n",
    "\n",
    "diz = {'fiat': 1899, 'audi': 1909, 'Chrysler': 1925}\n",
    "\n",
    "f(**diz)"
   ]
  },
  {
   "cell_type": "code",
   "execution_count": 60,
   "id": "2964fd69",
   "metadata": {},
   "outputs": [
    {
     "name": "stdout",
     "output_type": "stream",
     "text": [
      "kwargs = {'Fiat': 1899, 'Audio': 1909, 'Chrysler': 1925}\n",
      "\n",
      "type(kwargs) = <class 'dict'>\n",
      "\n",
      "items:\n",
      "Fiat 1899\n",
      "Audio 1909\n",
      "Chrysler 1925\n"
     ]
    }
   ],
   "source": [
    "# Fornire l'argomento nella forma data sopra è equivalente a spacchettare\n",
    "# il dizionario in questo modo:\n",
    "\n",
    "f(Fiat=1899, Audio=1909, Chrysler=1925)"
   ]
  },
  {
   "cell_type": "markdown",
   "id": "aa8c65bc",
   "metadata": {},
   "source": [
    "### Argomenti: riassumiamo ###\n",
    "\n",
    "Le tre tipologie di argomenti illustrate sono positional, tuple-packed, dictionary-packed.   \n",
    "\n",
    "- Esiste il vincolo dei positional arguments, la cui posizione deve essere rispettata, a meno che vengano specificati tutti i nomi nella chiamata.  \n",
    "- Anche se potrebbero sembrare simili, kwargs e default arguments sono una cosa molto diversa. I default args sono specificati nella definizione di funzione, in termini di var_name=value, mentre i kwargs vengono di var_name=value, nella chiamata della funzione."
   ]
  },
  {
   "cell_type": "code",
   "execution_count": null,
   "id": "faf4a9dc",
   "metadata": {},
   "outputs": [
    {
     "name": "stdout",
     "output_type": "stream",
     "text": [
      "A = 2\n",
      "B = 3\n",
      "\n",
      "A = 2\n",
      "B = 3\n",
      "\n",
      "A = 2\n",
      "B = 3\n",
      "\n",
      "A = 2\n",
      "B = 3\n"
     ]
    }
   ],
   "source": [
    "# Se abbiamo solo positional arguments:\n",
    "\n",
    "def g(a, b):\n",
    "    print(\"A =\", a)\n",
    "    print(\"B =\", b)\n",
    "\n",
    "# Voglio dare ad \"a\" il valore 2 e a \"b\" il valore 3\n",
    "\n",
    "g(2, 3)    # senon specifico i nomi l'ordine deve essere rispettato\n",
    "print()\n",
    "\n",
    "\n",
    "g(a=2, b=3)    # ridondante ma ok\n",
    "print()\n",
    "\n",
    "g(2, b=3)    # ridondante, ma ok\n",
    "print()\n",
    "\n",
    "g(b=3, a=2)    # se specifico tutti i nomi l'ordine non conta.\n",
    "\n",
    "\n"
   ]
  },
  {
   "cell_type": "code",
   "execution_count": 5,
   "id": "1d4bb114",
   "metadata": {},
   "outputs": [
    {
     "ename": "SyntaxError",
     "evalue": "positional argument follows keyword argument (4251795935.py, line 3)",
     "output_type": "error",
     "traceback": [
      "\u001b[0;36m  Cell \u001b[0;32mIn[5], line 3\u001b[0;36m\u001b[0m\n\u001b[0;31m    g(a=2, 3)\u001b[0m\n\u001b[0m           ^\u001b[0m\n\u001b[0;31mSyntaxError\u001b[0m\u001b[0;31m:\u001b[0m positional argument follows keyword argument\n"
     ]
    }
   ],
   "source": [
    "# Se invece si spacificano solo alcuni dei nomi, essi vanno messi tutti dopo: infatti l'esempio seguente generea errore:\n",
    "\n",
    "g(a=2, 3)"
   ]
  },
  {
   "cell_type": "code",
   "execution_count": 6,
   "id": "d44f1a9a",
   "metadata": {},
   "outputs": [
    {
     "name": "stdout",
     "output_type": "stream",
     "text": [
      "x1 e x2 = 1 2\n",
      "args = ('abs', 'cvb', 'ert')\n",
      "kwargs = {'alessio': 47, 'francesco': 38}\n"
     ]
    }
   ],
   "source": [
    "# Se una funzione necessita di tutti e tre i tipi di args bisogna rispettare l'ordine:\n",
    "\n",
    "def f(x1, x2, *args, **kwargs):\n",
    "    print(\"x1 e x2 =\", x1, x2)\n",
    "    print(\"args =\", args)\n",
    "    print(\"kwargs =\", kwargs)\n",
    "\n",
    "\n",
    "f(1, 2, 'abs', 'cvb', 'ert', alessio=47, francesco=38)"
   ]
  },
  {
   "cell_type": "code",
   "execution_count": 8,
   "id": "8bb8cf11",
   "metadata": {},
   "outputs": [
    {
     "ename": "SyntaxError",
     "evalue": "positional argument follows keyword argument (667080859.py, line 3)",
     "output_type": "error",
     "traceback": [
      "\u001b[0;36m  Cell \u001b[0;32mIn[8], line 3\u001b[0;36m\u001b[0m\n\u001b[0;31m    f(1, 2, alessio=47, francesco=38, 'asd', 'bcs')\u001b[0m\n\u001b[0m                                      ^\u001b[0m\n\u001b[0;31mSyntaxError\u001b[0m\u001b[0;31m:\u001b[0m positional argument follows keyword argument\n"
     ]
    }
   ],
   "source": [
    "# Infatti, se provo:\n",
    "\n",
    "f(1, 2, alessio=47, francesco=38, 'asd', 'bcs')\n"
   ]
  },
  {
   "cell_type": "markdown",
   "id": "4480c8e3",
   "metadata": {},
   "source": [
    "# ESERCIZI #"
   ]
  },
  {
   "cell_type": "markdown",
   "id": "3e0e7063",
   "metadata": {},
   "source": [
    "Scrivere una funzione generatrice di acronimi. Funzionamento: prende in in input una stringa e restituisce l'acronimo composto dall'unione di tutte le prime lettere maiuscole di ogni parola, le lettere in minuscolo non vengono considerate. "
   ]
  },
  {
   "cell_type": "code",
   "execution_count": 12,
   "id": "ec8b9717",
   "metadata": {},
   "outputs": [
    {
     "data": {
      "text/plain": [
       "'HTML'"
      ]
     },
     "execution_count": 12,
     "metadata": {},
     "output_type": "execute_result"
    }
   ],
   "source": [
    "def acronym_gen(string):\n",
    "\n",
    "    if type(string)!=str: \n",
    "        print(\"Inserire una stringa\")\n",
    "        return\n",
    "\n",
    "    result = \"\"\n",
    "\n",
    "    for word in string.split():\n",
    "        if word.islower():\n",
    "            continue\n",
    "        else:\n",
    "            result += word[0].upper()\n",
    "    \n",
    "    return result\n",
    "\n",
    "\n",
    "acronym_gen(\"Object Oriented Programming\")\n",
    "acronym_gen(\"Hyper Text MArkup Language asdrt\")"
   ]
  },
  {
   "cell_type": "markdown",
   "id": "b8fb2542",
   "metadata": {},
   "source": [
    "Scrivere una funzione che prenda un valore di temperatura in formato stringa, seguito dal simbolo C oppure F, e restituisca una stringa analoga, con il valore convertito in Celsius o Fahereneit.  \n",
    "F = C * 9/5 + 32  \n",
    "C = (F - 32) * 5/9"
   ]
  },
  {
   "cell_type": "code",
   "execution_count": 17,
   "id": "72fff52a",
   "metadata": {},
   "outputs": [
    {
     "name": "stdout",
     "output_type": "stream",
     "text": [
      "Formato errato\n",
      "None\n",
      "12.8 C\n",
      "12.8 C\n",
      "131.0 F\n"
     ]
    }
   ],
   "source": [
    "def temperature_conv(string):\n",
    "\n",
    "    # Gestione dell'eccezione 'non è una stringa'\n",
    "    if type(string)!=str:\n",
    "        print(\"Formato errato\")\n",
    "        return\n",
    "\n",
    "    string = string.strip()\n",
    "\n",
    "    # Caso temperatura in Celsius -> converto in Fahreneit\n",
    "    if string[-1].lower() == \"c\":\n",
    "        string = string[:-1].strip()\n",
    "        tempCelsius = eval(string)\n",
    "        tempFahr = tempCelsius * 9/5 + 32\n",
    "        return str(round(tempFahr, 1)) + \" F\"\n",
    "    \n",
    "    # Caso temperatura in Fahereneit -> converto in Celsius\n",
    "    if string[-1].lower() == \"f\":\n",
    "        string = string[:-1].strip()\n",
    "        tempFahr = eval(string)\n",
    "        tempCelsius = (tempFahr - 32) * 5/9\n",
    "        return str(round(tempCelsius, 1)) + \" C\"\n",
    "\n",
    "\n",
    "print(  temperature_conv(60)   )\n",
    "print( temperature_conv(\"55 F\"))\n",
    "print( temperature_conv(\"   55    F     \"))\n",
    "print( temperature_conv(\"55 C    \"))"
   ]
  },
  {
   "cell_type": "markdown",
   "id": "03ecd8b2",
   "metadata": {},
   "source": [
    "Scrivere una funzione che prenda un qualunque numero di variabili numeriche e restituisca il minimo fra essi senza usare min di  Python. Linea: utilizzare la funzione minimum_2_values definita in precedenza."
   ]
  },
  {
   "cell_type": "code",
   "execution_count": 19,
   "id": "517cc700",
   "metadata": {},
   "outputs": [
    {
     "data": {
      "text/plain": [
       "-12"
      ]
     },
     "execution_count": 19,
     "metadata": {},
     "output_type": "execute_result"
    }
   ],
   "source": [
    "def minimum_2_values(a, b): \n",
    "    if a < b: \n",
    "        return a\n",
    "    else: \n",
    "        return b\n",
    "\n",
    "\n",
    "def minimum(*numbers):\n",
    "\n",
    "    min = numbers[0]\n",
    "\n",
    "    for n in numbers:\n",
    "        if minimum_2_values(min, n) != min:\n",
    "            min = n\n",
    "    \n",
    "    return min\n",
    "\n",
    "minimum(23, 1, 45, -3, 0, -12, 450)"
   ]
  },
  {
   "cell_type": "markdown",
   "id": "53a6933b",
   "metadata": {},
   "source": [
    "Scrivere una funzione che restituisca il prodotto di tutti gli argomenti che vengono forniti alla chimata della funzione.  \n",
    "Versione 1: nel caso di immissione di argomenti non numerici uscire con un messaggio."
   ]
  },
  {
   "cell_type": "code",
   "execution_count": 21,
   "id": "6922de40",
   "metadata": {},
   "outputs": [
    {
     "name": "stdout",
     "output_type": "stream",
     "text": [
      "Tutti gli argomenti devono essere numerici.\n"
     ]
    },
    {
     "data": {
      "text/plain": [
       "179520"
      ]
     },
     "execution_count": 21,
     "metadata": {},
     "output_type": "execute_result"
    }
   ],
   "source": [
    "def multiplication(*vars):\n",
    "\n",
    "    res = 1\n",
    "\n",
    "    # Sanifico l'input\n",
    "    for var in vars:\n",
    "        if type(var) != int and type(var) != float:\n",
    "            print(\"Tutti gli argomenti devono essere numerici.\")\n",
    "            return\n",
    "        \n",
    "        res *= var\n",
    "    \n",
    "    return res\n",
    "\n",
    "\n",
    "multiplication(1,2,3,4,5,\"ciao\", 34,44)\n",
    "multiplication(1,2,3,4,5, 34,44)"
   ]
  },
  {
   "cell_type": "markdown",
   "id": "318a67e0",
   "metadata": {},
   "source": [
    "Versione 2: scarta le eventuali variabili non numeriche, avvertendo di cosa viene scartato, ed esegue il calcolo con le sole numeriche."
   ]
  },
  {
   "cell_type": "code",
   "execution_count": 22,
   "id": "7f6659e3",
   "metadata": {},
   "outputs": [
    {
     "name": "stdout",
     "output_type": "stream",
     "text": [
      "Sono stati scartati ['ciao', 'miao']\n",
      "Il risultato, 120, è il prodotto di [1, 2, 3, 4, 5]\n"
     ]
    }
   ],
   "source": [
    "def multiplication(*vars):\n",
    "\n",
    "    # Definiamo un avariabile per il risultato\n",
    "    res = 1\n",
    "\n",
    "    # Definisco due liste per contenere i valori scartati e quelli buoni\n",
    "    good, thrash = [], []\n",
    "\n",
    "    # Controllo l'input\n",
    "    for var in vars:\n",
    "        if type(var)!=int and type(var)!=float:\n",
    "            thrash.append(var)\n",
    "        \n",
    "        else: \n",
    "            good.append(var)\n",
    "            res *= var\n",
    "    \n",
    "    print(f\"Sono stati scartati {thrash}\")\n",
    "    print(f\"Il risultato, {res}, è il prodotto di {good}\")\n",
    "\n",
    "\n",
    "multiplication(1,2,3, \"ciao\", 4,5, \"miao\")\n"
   ]
  },
  {
   "cell_type": "markdown",
   "id": "2ae52a65",
   "metadata": {},
   "source": [
    "Scrivere una funzione che restituisca l'area di un quadrato se nei keyword arguments viene fornita una variabile chiamata 'lato', l'area del cerchio se invece viene fornita una variabile chimata 'raggio'. Gestire i casi differenti. "
   ]
  },
  {
   "cell_type": "code",
   "execution_count": 25,
   "id": "9f63656d",
   "metadata": {},
   "outputs": [
    {
     "name": "stdout",
     "output_type": "stream",
     "text": [
      "E' un quadrato, l'area vale 1600\n",
      "E' una circonferenza, l'area vale 314.0\n",
      "Tipo di lunghezza non riconosciuta\n"
     ]
    }
   ],
   "source": [
    "def get_area(**length): \n",
    "\n",
    "    for name, value in length.items():\n",
    "        if name == 'lato':\n",
    "            print(\"E' un quadrato, l'area vale\", value**2)\n",
    "\n",
    "        elif name == 'raggio':\n",
    "            print(\"E' una circonferenza, l'area vale\", 3.14*value**2)\n",
    "        \n",
    "        else:\n",
    "            print(\"Tipo di lunghezza non riconosciuta\")\n",
    "\n",
    "get_area(lato=40)\n",
    "get_area(raggio=10)\n",
    "get_area(base=7)"
   ]
  },
  {
   "cell_type": "markdown",
   "id": "8c278147",
   "metadata": {},
   "source": [
    "Espandere la funzione get_area per includere l'area di un rettangolo, con lati lato1 e lato2."
   ]
  },
  {
   "cell_type": "code",
   "execution_count": 28,
   "id": "b9bbfe51",
   "metadata": {},
   "outputs": [
    {
     "name": "stdout",
     "output_type": "stream",
     "text": [
      "E' un quadrato, l'area vale 1600\n",
      "E' una circonferenza, l'area vale 314.0\n",
      "Tipo di lunghezza non riconosciuta\n",
      "E' un rettangolo, l'area vale 408\n",
      "Tipo di lunghezza non riconosciuta\n",
      "Tipo di lunghezza non riconosciuta\n"
     ]
    }
   ],
   "source": [
    "def get_area(**length): \n",
    "\n",
    "    # Controllo se ci sono due kwargs\n",
    "    if len(length)==2 and 'lato1' in length.keys() and 'lato2' in length.keys():\n",
    "        area = length['lato1'] * length['lato2']\n",
    "        print(\"E' un rettangolo, l'area vale\", area)\n",
    "        return\n",
    "\n",
    "    for name, value in length.items():\n",
    "        if name == 'lato':\n",
    "            print(\"E' un quadrato, l'area vale\", value**2)\n",
    "\n",
    "        elif name == 'raggio':\n",
    "            print(\"E' una circonferenza, l'area vale\", 3.14*value**2)\n",
    "        \n",
    "        else:\n",
    "            print(\"Tipo di lunghezza non riconosciuta\")\n",
    "\n",
    "get_area(lato=40)\n",
    "get_area(raggio=10)\n",
    "get_area(base=7)\n",
    "get_area(lato1=34, lato2=12)\n",
    "get_area(lato1=34, lato5=12)"
   ]
  },
  {
   "cell_type": "markdown",
   "id": "71c21f88",
   "metadata": {},
   "source": [
    "# UTILIZZO DELLE FUNZIONI CUSTOM NEI PROGETTI (DI GRANDI DIMENSIONI) #\n"
   ]
  },
  {
   "cell_type": "markdown",
   "id": "f854c9cc",
   "metadata": {},
   "source": [
    "Normalmente, è una buona norma ospitare le funzioni in moduli .py a parte, nella stessa folder del progetto main.  \n",
    "Esse vengono poi richiamate nel modulo in cui vengono utilizzate tramite due possibili modalita:\n",
    "\n",
    "Supponimao di avere salvato il file 'modulo.py', in cui è contenuta la definizione della funzione 'function'.  \n",
    "Posso importare il modulo intero e chiamre la funzione in questo modo: \n",
    "\n",
    "import modulo  \n",
    "modulo.nomefunzione(args)\n",
    "\n",
    "Oppure, posso importare solo la funzione 'function' e chiamrla come segue:\n",
    "\n",
    "from modulo import funcion  \n",
    "function(args)"
   ]
  },
  {
   "cell_type": "code",
   "execution_count": null,
   "id": "18174b94",
   "metadata": {},
   "outputs": [],
   "source": []
  }
 ],
 "metadata": {
  "kernelspec": {
   "display_name": "CVE",
   "language": "python",
   "name": "python3"
  },
  "language_info": {
   "codemirror_mode": {
    "name": "ipython",
    "version": 3
   },
   "file_extension": ".py",
   "mimetype": "text/x-python",
   "name": "python",
   "nbconvert_exporter": "python",
   "pygments_lexer": "ipython3",
   "version": "3.8.10"
  }
 },
 "nbformat": 4,
 "nbformat_minor": 5
}
