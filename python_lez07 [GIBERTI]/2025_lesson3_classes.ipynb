{
 "cells": [
  {
   "cell_type": "markdown",
   "id": "2e9fb9dd",
   "metadata": {},
   "source": [
    "# OBJECT-ORIENTED PROGRAMMING IN PYTHON #"
   ]
  },
  {
   "cell_type": "markdown",
   "id": "72d64c29",
   "metadata": {},
   "source": [
    "Nella programmazione a oggetti le proprietà e i comportamenti sono impacchettati dentro strutture chiamte oggetti. Una classe è un tipo di oggetto definito dall'utente, che può avere proprietà come nome, età, anno di fabbricazizone e possibili azioni, come parlare, o spostarsi a piedi. Questo tipo di programmazione è pensato per riprodurre il comportamento di oggeti reali, che hanno proprietà come colore, durezza o anno di fabbricazione e possono interagire con altri oggetti. La keyword è class"
   ]
  },
  {
   "cell_type": "code",
   "execution_count": 3,
   "id": "76bfd53d",
   "metadata": {},
   "outputs": [],
   "source": [
    "# Definiamo una clsasse minimale\n",
    "\n",
    "\n",
    "class Dipendente:\n",
    "    def __init__(self):\n",
    "        pass\n",
    "\n",
    "# NB: la parola self è obbligatoria come primo parametro della __init__()"
   ]
  },
  {
   "cell_type": "markdown",
   "id": "e81f81b5",
   "metadata": {},
   "source": [
    "- La classe definita si chiama Dipendente e definisce una struttura dati, per il momento vuota.  \n",
    "- La funzione speciale __init__ serve a definire quali attributi (variabili con valore assegnato) ogni istanza deve avere nel momento della creazione. Non è obbligatoria.  \n",
    "- la parola 'self' serve per riferirsi all'istanza generica dentro il codice della classe. \n",
    "\n",
    "Una volta definita la classe, è possibile istanziare. NB: è convenzione usare la prima lettera maiuscola nella definizione di classe, e nominare le istanze in minuscolo. "
   ]
  },
  {
   "cell_type": "code",
   "execution_count": 5,
   "id": "105c4644",
   "metadata": {},
   "outputs": [],
   "source": [
    "# Definiamo una istanza della classe Dipendente.\n",
    "# La sintassi è io nome della classe seguito da parentesi contenenti i parametri di inizializzazione, che in questo caso non ci sono!\n",
    "\n",
    "mariorossi = Dipendente()"
   ]
  },
  {
   "cell_type": "code",
   "execution_count": 6,
   "id": "3eac47f7",
   "metadata": {},
   "outputs": [
    {
     "data": {
      "text/plain": [
       "<__main__.Dipendente at 0x7fda303fb070>"
      ]
     },
     "execution_count": 6,
     "metadata": {},
     "output_type": "execute_result"
    }
   ],
   "source": [
    "# Abbiamo creato un oggetto che però non ha la possibilità di immagazzinare informazioni\n",
    "\n",
    "mariorossi"
   ]
  },
  {
   "cell_type": "code",
   "execution_count": 7,
   "id": "48725b80",
   "metadata": {},
   "outputs": [
    {
     "data": {
      "text/plain": [
       "<__main__.Dipendente at 0x7fda30730be0>"
      ]
     },
     "execution_count": 7,
     "metadata": {},
     "output_type": "execute_result"
    }
   ],
   "source": [
    "# __main__ davanti al nome significa che la classe è definita nel modulo che si sta eseguendo, se invece la imoporti da \n",
    "# # un altro modulo ci sarà il nome di questo al posto main\n",
    "\n",
    "claudioneri = Dipendente()\n",
    "\n",
    "claudioneri \n",
    "\n"
   ]
  },
  {
   "cell_type": "code",
   "execution_count": 8,
   "id": "6092af0f",
   "metadata": {},
   "outputs": [
    {
     "data": {
      "text/plain": [
       "__main__.Dipendente"
      ]
     },
     "execution_count": 8,
     "metadata": {},
     "output_type": "execute_result"
    }
   ],
   "source": [
    "# Se chiediamo aPython il tipo di oggetto delle istanze che abbiamo creato\n",
    "\n",
    "type(mariorossi)"
   ]
  },
  {
   "cell_type": "markdown",
   "id": "96fd938a",
   "metadata": {},
   "source": [
    "Quando creaimo una nuova istanza di una classe:  \n",
    "- Le proprietà che vogliamo conferire all'oggetto si specificano dentro la __init__() e si chiamano atttributi.  \n",
    "- Alla creazione di ogni nuova istanza occorre specificarli, e la funzione provvede a settali in questo stato inizili. Il primo parametro deve necessariamente essere self. \n",
    "\n",
    "La funzione init serve a inizializzare le istanze con dei valori in fase di creazione."
   ]
  },
  {
   "cell_type": "code",
   "execution_count": 9,
   "id": "32c5d75f",
   "metadata": {},
   "outputs": [],
   "source": [
    "# Espandiamo la classe minimale Dipendente inserendo due attributi, che devono essere specificati qando si crea l'istanza\n",
    "\n",
    "class Dipendente:\n",
    "    def __init__(self, name, age):\n",
    "        self.name = name\n",
    "        self.age = age"
   ]
  },
  {
   "cell_type": "markdown",
   "id": "0c4d7f41",
   "metadata": {},
   "source": [
    "Le due linee di codice ora dentro la init definiscono due attributi. Occorre specificarli  in fase di instanziazione come parametri, poi la init provvede ad assegnarli a self.  \n",
    "Questi attributi sono anche definiti \"instance attributes\" perché si riferiscono ad attributi con valori che caratterizzano ogni diversa istanza. All'interno del codice della classe, ci si riferisce a quell'attributo con self.attibuto.   \n",
    "Si possono definire anche dei \"class attributes\" che sono gli stessi per ogni istanza della classe, e vanno specificati fuori dalla init"
   ]
  },
  {
   "cell_type": "code",
   "execution_count": 11,
   "id": "c2385383",
   "metadata": {},
   "outputs": [],
   "source": [
    "class Dipendente:   \n",
    "\n",
    "    tipologia = \"dipendente\"    # class attribute\n",
    "\n",
    "    def __init__(self, name, age):\n",
    "        self.name = name        # instance attr\n",
    "        self.age = age          # instance attr\n"
   ]
  },
  {
   "cell_type": "code",
   "execution_count": 12,
   "id": "d8dd6424",
   "metadata": {},
   "outputs": [],
   "source": [
    "# Instaziamo qualche dipendente\n",
    "\n",
    "mariorossi = Dipendente(\"Mario Rossi\", 43)          # 'Mario Rossi' e 43 sono gli attrinuti di istanza\n",
    "stefanobianchi = Dipendente(\"Stefano Bianchi\", 28)"
   ]
  },
  {
   "cell_type": "code",
   "execution_count": 13,
   "id": "4c771a61",
   "metadata": {},
   "outputs": [
    {
     "name": "stdout",
     "output_type": "stream",
     "text": [
      "dipendente\n",
      "Mario Rossi ,  43\n",
      "dipendente\n",
      "Stefano Bianchi ,  28\n"
     ]
    }
   ],
   "source": [
    "# Proviamo a leggere òe informazioni contenute nella definizione di nuova istanza. L'accesso agli attributi avviene tramite \n",
    "# la sintassi con il punto. \n",
    "\n",
    "print(mariorossi.tipologia)\n",
    "print(mariorossi.name, \", \", mariorossi.age)\n",
    "print(stefanobianchi.tipologia)\n",
    "print(stefanobianchi.name, \", \", stefanobianchi.age)"
   ]
  },
  {
   "cell_type": "code",
   "execution_count": null,
   "id": "e6468387",
   "metadata": {},
   "outputs": [
    {
     "name": "stdout",
     "output_type": "stream",
     "text": [
      "Mario Anselmo Rossi\n"
     ]
    }
   ],
   "source": [
    "# Gli attributi specificati nella init devono essere definiti alla creazione di istanza, ma possono essere cambiati dinamicamente:\n",
    "# aggiorniamo un attributo dell'istanza Dipendente 'mariorossi'\n",
    "\n",
    "mariorossi.name = \"Mario Anselmo Rossi\"\n",
    "\n",
    "print(mariorossi.name)"
   ]
  },
  {
   "cell_type": "code",
   "execution_count": 15,
   "id": "1baf25dd",
   "metadata": {},
   "outputs": [],
   "source": [
    "# Possiamo cambiare dinamicamente anche gli attributi di classe:\n",
    "\n",
    "mariorossi.tipologia = \"ex dipendente\""
   ]
  },
  {
   "cell_type": "code",
   "execution_count": 16,
   "id": "d7b176d7",
   "metadata": {},
   "outputs": [
    {
     "name": "stdout",
     "output_type": "stream",
     "text": [
      "ex dipendente\n",
      "dipendente\n"
     ]
    }
   ],
   "source": [
    "# In questo modo, le diverse istanze della stesa classe hanno attributi di classe diversi\n",
    "\n",
    "print(mariorossi.tipologia)\n",
    "print(stefanobianchi.tipologia)"
   ]
  },
  {
   "cell_type": "markdown",
   "id": "a2229908",
   "metadata": {},
   "source": [
    "Non solo attributi: le classi possono avere anche metodi, che non sono altro che funzioni definite all0interno della classe, e possono essere chiamate solamente su un'istanza della classe.  \n",
    "Arricchiamo la classe aggiungendo un metodo che stampi il riassunto delle informazioni dell'istanza. "
   ]
  },
  {
   "cell_type": "code",
   "execution_count": 17,
   "id": "81aa2d44",
   "metadata": {},
   "outputs": [],
   "source": [
    "class Dipendente:\n",
    "\n",
    "    tipologia = \"dipendente\"\n",
    "\n",
    "    def __init__(self, name, age):\n",
    "        self.name = name\n",
    "        self.age = age\n",
    "\n",
    "    def describe(self):\n",
    "        description = f\"{self.name} di anni {self.age} è attualmente {self.tipologia}\"\n",
    "        return description"
   ]
  },
  {
   "cell_type": "code",
   "execution_count": 18,
   "id": "61090d61",
   "metadata": {},
   "outputs": [
    {
     "name": "stdout",
     "output_type": "stream",
     "text": [
      "Mario Rossi di anni 43 è attualmente dipendente\n",
      "Stefano Bianchi di anni 28 è attualmente dipendente\n"
     ]
    }
   ],
   "source": [
    "# Ridefinisco le istanze visto che ho cambiato il codice della classe:\n",
    "\n",
    "mariorossi = Dipendente(\"Mario Rossi\", 43)\n",
    "stefanobianchi = Dipendente(\"Stefano Bianchi\", 28)\n",
    "\n",
    "\n",
    "# Accedo al metdo describe\n",
    "print(mariorossi.describe())\n",
    "print(stefanobianchi.describe())"
   ]
  },
  {
   "cell_type": "code",
   "execution_count": 21,
   "id": "5d256feb",
   "metadata": {},
   "outputs": [],
   "source": [
    "# La funzione che viene eseguita quando si chiama print con solamente il nome dell'istanza può essere sovrascritta.\n",
    "# Cambiamo il nome della funzione describe() in __str__()\n",
    "\n",
    "class Dipendente:\n",
    "\n",
    "    tipologia = \"dipendente\"\n",
    "\n",
    "    def __init__(self, name, age):\n",
    "        self.name = name\n",
    "        self.age = age\n",
    "\n",
    "    def __str__(self):\n",
    "        description = f\"{self.name} di anni {self.age} è attualmente {self.tipologia}\"\n",
    "        return description\n",
    "    \n",
    "\n",
    "# Ridefinire le istanze \n",
    "mariorossi = Dipendente(\"Mario Rossi\", 43)\n",
    "stefanobianchi = Dipendente(\"Stefano Bianchi\", 28)\n",
    "\n"
   ]
  },
  {
   "cell_type": "code",
   "execution_count": 22,
   "id": "4cbedbfb",
   "metadata": {},
   "outputs": [
    {
     "name": "stdout",
     "output_type": "stream",
     "text": [
      "Mario Rossi di anni 43 è attualmente dipendente\n"
     ]
    }
   ],
   "source": [
    "# ORa viene eseguito il codice della funzione __str__():\n",
    "\n",
    "print( mariorossi)"
   ]
  },
  {
   "cell_type": "code",
   "execution_count": null,
   "id": "c5d9fbcf",
   "metadata": {},
   "outputs": [],
   "source": [
    "# Le funzioni che iniziano e finiscono con doppio _ si chiamano dunder functions o special functions"
   ]
  },
  {
   "cell_type": "markdown",
   "id": "ad56dcb9",
   "metadata": {},
   "source": [
    "# ESERCIZI #"
   ]
  },
  {
   "cell_type": "markdown",
   "id": "2ef47f6f",
   "metadata": {},
   "source": [
    "**ESERCIZIO 1**\n",
    "- Creare una classe Pet con 3 attributi di istanza: nome (stringa), specie (stringa), e anni (int);  \n",
    "- inserire una funzione che stampi in maniera simile a questa: (nome del pet) è un (specie) e ha X anni (Felix è un gatto di 3 anni).  \n",
    "- creeare due istanze: un cane di 4 anni e un gatto di 7 anni. "
   ]
  },
  {
   "cell_type": "code",
   "execution_count": 25,
   "id": "83a1ee32",
   "metadata": {},
   "outputs": [
    {
     "name": "stdout",
     "output_type": "stream",
     "text": [
      "Buck è un cane, e ha 4 anni.\n",
      "Lucifer è un gatto, e ha 7 anni.\n"
     ]
    }
   ],
   "source": [
    "class Pet:\n",
    "    def __init__(self, nome, specie, anni):\n",
    "        self.nome = nome\n",
    "        self.specie = specie\n",
    "        self.anni = anni\n",
    "    \n",
    "    def describe(self):\n",
    "        print(f\"{self.nome} è un {self.specie}, e ha {self.anni} anni.\")\n",
    "\n",
    "\n",
    "\n",
    "# creo le istanze\n",
    "buck = Pet(\"Buck\", \"cane\", 4)\n",
    "lucifer = Pet(\"Lucifer\", \"gatto\", 7)\n",
    "\n",
    "# Stampo le info con describe()\n",
    "\n",
    "buck.describe()\n",
    "lucifer.describe()"
   ]
  },
  {
   "cell_type": "code",
   "execution_count": null,
   "id": "669409da",
   "metadata": {},
   "outputs": [],
   "source": []
  }
 ],
 "metadata": {
  "kernelspec": {
   "display_name": "CVE",
   "language": "python",
   "name": "python3"
  },
  "language_info": {
   "codemirror_mode": {
    "name": "ipython",
    "version": 3
   },
   "file_extension": ".py",
   "mimetype": "text/x-python",
   "name": "python",
   "nbconvert_exporter": "python",
   "pygments_lexer": "ipython3",
   "version": "3.8.10"
  }
 },
 "nbformat": 4,
 "nbformat_minor": 5
}
