{
 "cells": [
  {
   "cell_type": "markdown",
   "id": "c532f8ef",
   "metadata": {},
   "source": [
    "## ESERCIZIO 3\n",
    "Definire una classe 'carrello' per acquisti online seguendo queste istruzioni:\n",
    " - inserire attributo 'items' per contenere gli oggetti;\n",
    " - inserire metodo 'add-item' per aggiungere un numero n di oggetti 'item-name'\n",
    " - inserire metodo 'remove_item' per rimuovere una unità di 'item_name'\n",
    " - inserire metodo 'calculate_total' per calcolare il numero totale di oggetti nel carrello"
   ]
  },
  {
   "cell_type": "code",
   "execution_count": 16,
   "id": "03087086",
   "metadata": {},
   "outputs": [],
   "source": [
    "class Carrello:\n",
    "    \n",
    "    items = [ ]\n",
    "    \n",
    "    def __init__(self, prodotto):\n",
    "        self.prodotto = prodotto\n",
    "        \n",
    "    def add_item(self, prodotto, quantita):\n",
    "        self.items.append([prodotto, quantita])\n",
    "        print(f\"{prodotto} aggiunto/a al carrello\")\n",
    "        \n",
    "    def remove_item(self, prodotto):\n",
    "        for oggetto in self.items:\n",
    "            if prodotto == oggetto[0]:\n",
    "                oggetto[1] -= 1\n",
    "                if oggetto[1] == 0:\n",
    "                    self.items.remove(oggetto)\n",
    "        print(f\"Una unità di {prodotto} rimosso/a dal carrello\")\n",
    "        \n",
    "    def calculate_total(self):\n",
    "        totale = 0\n",
    "        for oggetto in self.items:\n",
    "            totale += oggetto[1]\n",
    "        print(f\"Nel carrello sono presenti <{totale}> oggetti\")      \n",
    "        \n",
    "    \n",
    "        \n",
    "    "
   ]
  },
  {
   "cell_type": "code",
   "execution_count": 17,
   "id": "ece3b2c9",
   "metadata": {},
   "outputs": [
    {
     "name": "stdout",
     "output_type": "stream",
     "text": [
      "mele aggiunto/a al carrello\n",
      "pesche aggiunto/a al carrello\n",
      "vodka aggiunto/a al carrello\n",
      "Una unità di pesche rimosso/a dal carrello\n",
      "Una unità di vodka rimosso/a dal carrello\n",
      "Nel carrello sono presenti <7> oggetti\n",
      "Oggetti nel carrello:\n",
      "['mele', 3]\n",
      "['pesche', 4]\n"
     ]
    }
   ],
   "source": [
    "carrello_1 = Carrello('carrello 1')\n",
    "\n",
    "carrello_1.add_item('mele', 3)\n",
    "carrello_1.add_item('pesche', 5)\n",
    "carrello_1.add_item('vodka', 1)\n",
    "\n",
    "carrello_1.remove_item('pesche')\n",
    "carrello_1.remove_item('vodka')\n",
    "\n",
    "carrello_1.calculate_total()\n",
    "\n",
    "\n",
    "#vediamo cosa abbiamo nel carrello:\n",
    "print('Oggetti nel carrello:')\n",
    "for x in carrello_1.items:\n",
    "    print(x)    "
   ]
  },
  {
   "cell_type": "markdown",
   "id": "81fbf3a3",
   "metadata": {},
   "source": [
    "#### mail di giberti: giberti@labmistet.it ####\n",
    "\n",
    "## ESERCIZIO 4 ##\n",
    "Creare una classe 'banca' con le seguenti caratteristiche:\n",
    "- dotarla di un attributo di classe 'lista_clienti' che includa per ogni numero di account il relativo saldo\n",
    "- inserire un metodo ''aggiungi_account' che inserisca un nuovo account caratterizzato da 'account_number' e 'saldo_iniziale'\n",
    "- inserire un metodo 'deposita' e uno 'preleva' tenendo conto del massimo prelevabile\n",
    "- inserire un metodo 'check_balance' per stampare il saldo di un account number"
   ]
  }
 ],
 "metadata": {
  "kernelspec": {
   "display_name": "Python 3",
   "language": "python",
   "name": "python3"
  },
  "language_info": {
   "codemirror_mode": {
    "name": "ipython",
    "version": 3
   },
   "file_extension": ".py",
   "mimetype": "text/x-python",
   "name": "python",
   "nbconvert_exporter": "python",
   "pygments_lexer": "ipython3",
   "version": "3.13.5"
  }
 },
 "nbformat": 4,
 "nbformat_minor": 5
}
