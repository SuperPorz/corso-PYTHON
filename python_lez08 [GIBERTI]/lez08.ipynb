{
 "cells": [
  {
   "cell_type": "markdown",
   "id": "0e849f93",
   "metadata": {},
   "source": [
    "### ESERCIZIO 2 ###\n",
    "Chiamare una classe Robot con queste caratteristiche:\n",
    " - un attributo di classe (tipo booleano) chiamato active (True=acceso, False=spento)\n",
    " - alla creazione di una istanza, l'attributo 'active' deve essere settato su true\n",
    " - un attributo di istanza (tipo stringa) chiamato 'nome'\n",
    " - aggiungere due metodi: 'poweron', 'poweroff' per accenderlo/spegnerlo\n",
    " - creare il metodo 'describe' che stampa a schermo il nome del Robot e avverte se è acceso o spento\n",
    " - la classe deve tenere conto del numero totale di robod attivi e stamparlo con la funzione describe\n"
   ]
  },
  {
   "cell_type": "code",
   "execution_count": null,
   "id": "0cafd3c9",
   "metadata": {},
   "outputs": [],
   "source": [
    "# tentativo iniziale\n",
    "\n",
    "class Robot:\n",
    "    ACTIVE:bool = True\n",
    "    def __init__(self, nome) -> None:\n",
    "        self.nome = nome\n",
    "        \n",
    "    def poweron(self):\n",
    "        ACTIVE = True\n",
    "        return print('robot acceso', ACTIVE)\n",
    "        \n",
    "    def poweroff(self):\n",
    "        ACTIVE = False\n",
    "        return print('robot spento', ACTIVE)\n",
    "    \n",
    "    \n",
    "bender = Robot('bender')\n",
    "print(bender)\n",
    "bender.poweroff()\n",
    "bender.poweron()"
   ]
  },
  {
   "cell_type": "code",
   "execution_count": 13,
   "id": "665d6488",
   "metadata": {},
   "outputs": [],
   "source": [
    "# correzione in classe\n",
    "\n",
    "import gc  #### garbage collector\n",
    "\n",
    "class Robot:\n",
    "    active:bool = True\n",
    "    def __init__(self, nome) -> None:\n",
    "        self.nome = nome\n",
    "        \n",
    "    def poweroff(self):\n",
    "        self.active = False\n",
    "        #print(f\"{self.nome} ora è spento\")\n",
    "        \n",
    "    \n",
    "    def poweron(self):\n",
    "        if self.active == False:\n",
    "            self.active = True\n",
    "            #print(f\"{self.nome} ora è attivo\")\n",
    "        else:\n",
    "            #print(f\"{self.nome} ora è già attivo\")\n",
    "            pass\n",
    "        \n",
    "        self.active = True\n",
    "    \n",
    "    def describe(self):\n",
    "        if self.active == True:\n",
    "            print(f\"Io sono {self.nome} e ora sono ATTIVO!!\")\n",
    "        else:\n",
    "            print(f\"{self.nome} ora è SPENTO\")\n",
    "        \n",
    "        active_instances = 0\n",
    "        names = []\n",
    "        for obj in gc.get_objects():\n",
    "            if isinstance(obj, Robot) and obj.active:\n",
    "                active_instances += 1\n",
    "                names.append(obj.nome)\n",
    "        \n",
    "        print(f\"Ci sono {active_instances} robot attivi: {names}\")"
   ]
  },
  {
   "cell_type": "code",
   "execution_count": 14,
   "id": "3fcac74f",
   "metadata": {},
   "outputs": [
    {
     "name": "stdout",
     "output_type": "stream",
     "text": [
      "Io sono r3 e ora sono ATTIVO!!\n",
      "Ci sono 3 robot attivi: ['r1', 'r2', 'r3']\n"
     ]
    }
   ],
   "source": [
    "# CREIAMO 3 ISTANZE ROBOT\n",
    "\n",
    "r1 = Robot('r1')\n",
    "r2 = Robot('r2')\n",
    "r3 = Robot('r3')\n",
    "\n",
    "\n",
    "r3.describe()"
   ]
  },
  {
   "cell_type": "markdown",
   "id": "f1646856",
   "metadata": {},
   "source": [
    "### EREDITARIETA' ###\n",
    "\n",
    "E' possibile creare classe figlie di classi già esistenti, che verranno chiamate 'genitori' (parent classes). Ila classe figlia (child class) eredita automaticamente gli attributi e i metodi della classe genitrice. La sintassi prevede che dopo il nome della classe child venga messo tra parentesi il nome della classe parent."
   ]
  },
  {
   "cell_type": "code",
   "execution_count": 17,
   "id": "efcac711",
   "metadata": {},
   "outputs": [],
   "source": [
    "class DomesticRobot(Robot):\n",
    "    pass\n",
    "\n",
    "#creiamo un'stanza di questa child-class\n",
    "miles = DomesticRobot('Miles')"
   ]
  },
  {
   "cell_type": "markdown",
   "id": "f08b5094",
   "metadata": {},
   "source": [
    "# verifichiamo che:\n",
    " - l'istanza presenta gli stessi attributi e metodi della classe genitrice\n",
    " - eredità l'inizializzazione degli attributi di classe"
   ]
  },
  {
   "cell_type": "code",
   "execution_count": 21,
   "id": "4612d11d",
   "metadata": {},
   "outputs": [
    {
     "name": "stdout",
     "output_type": "stream",
     "text": [
      "Miles ora è SPENTO\n",
      "Ci sono 3 robot attivi: ['r1', 'r2', 'r3']\n",
      "Miles ora è SPENTO\n",
      "Ci sono 3 robot attivi: ['r1', 'r2', 'r3']\n",
      "Io sono Miles e ora sono ATTIVO!!\n",
      "Ci sono 4 robot attivi: ['r1', 'r2', 'r3', 'Miles']\n"
     ]
    }
   ],
   "source": [
    "miles.nome\n",
    "miles.describe()\n",
    "miles.poweroff()\n",
    "miles.describe()\n",
    "\n",
    "#riattiviamo miles\n",
    "miles.poweron()\n",
    "miles.describe()"
   ]
  },
  {
   "cell_type": "markdown",
   "id": "f82bdc9e",
   "metadata": {},
   "source": [
    "Le classi figlie possono sovrascrivere attributi e metodi della classe genitrice, e anche estenderli aggiungendone di nuovi. E' come, per un figlio, ereditare la lingua madre dei genitori ma impararne altre...\n",
    "Se nella classe DomesticRobot aggiungo per esempio un attributi di classe, esso viene aggiunto agli attributi della classe parent, ma vale solo per la classe child"
   ]
  },
  {
   "cell_type": "code",
   "execution_count": 22,
   "id": "c01c6a58",
   "metadata": {},
   "outputs": [],
   "source": [
    "class DomesticRobot(Robot):\n",
    "    submodel = 'A132'\n"
   ]
  },
  {
   "cell_type": "code",
   "execution_count": 23,
   "id": "cb8189e2",
   "metadata": {},
   "outputs": [
    {
     "data": {
      "text/plain": [
       "'A132'"
      ]
     },
     "execution_count": 23,
     "metadata": {},
     "output_type": "execute_result"
    }
   ],
   "source": [
    "#creiamo un'istanza\n",
    "jack = DomesticRobot('Jack')\n",
    "\n",
    "jack.submodel"
   ]
  },
  {
   "cell_type": "code",
   "execution_count": 24,
   "id": "20eab7fd",
   "metadata": {},
   "outputs": [
    {
     "name": "stdout",
     "output_type": "stream",
     "text": [
      "Io sono Miles e ora sono ATTIVO!!\n",
      "Ci sono 5 robot attivi: ['Jack', 'r1', 'r2', 'r3', 'Miles']\n"
     ]
    }
   ],
   "source": [
    "miles.describe()"
   ]
  },
  {
   "cell_type": "markdown",
   "id": "c57a34b4",
   "metadata": {},
   "source": [
    "### Se invece ridefinisco un attributo o un metodo nella classe-child, lo sovrascrivo rendendolo effettivamente diverso, anche se mantiene lo stesso nome sia nella parent-class che nella child-class"
   ]
  },
  {
   "cell_type": "code",
   "execution_count": 27,
   "id": "047bdf9a",
   "metadata": {},
   "outputs": [
    {
     "name": "stdout",
     "output_type": "stream",
     "text": [
      "CIAO A TUTTI!!! Io sono Jack e ora sono ATTIVO!!\n"
     ]
    }
   ],
   "source": [
    "# fiacciamo leggera modifica al metodo describe, aggiungiamo il print di un messaggio\n",
    "\n",
    "class DomesticRobot(Robot):\n",
    "    submodel = 'A132'\n",
    "    \n",
    "    def describe(self):\n",
    "        if self.active == True:\n",
    "            print(f\"CIAO A TUTTI!!! Io sono {self.nome} e ora sono ATTIVO!!\")\n",
    "        else:\n",
    "            print(f\"{self.nome} ora è SPENTO\")\n",
    "        \n",
    "        active_instances = 0\n",
    "        names = []\n",
    "        for obj in gc.get_objects():\n",
    "            if isinstance(obj, Robot) and obj.active:\n",
    "                active_instances += 1\n",
    "                names.append(obj.nome)\n",
    "        \n",
    "       # print(f\"Ci sono {active_instances} robot attivi: {names}\")\n",
    "        \n",
    "\n",
    "# FACCIAMO un'istanza poi vediamo il describe\n",
    "jack = DomesticRobot('Jack')\n",
    "jack.describe()\n"
   ]
  },
  {
   "cell_type": "code",
   "execution_count": 28,
   "id": "78fa55ef",
   "metadata": {},
   "outputs": [
    {
     "name": "stdout",
     "output_type": "stream",
     "text": [
      "Io sono Miles e ora sono ATTIVO!!\n",
      "Ci sono 5 robot attivi: ['Jack', 'r1', 'r2', 'r3', 'Miles']\n"
     ]
    }
   ],
   "source": [
    "#verifichiamo la differenza richiamando describe sul robot Miles, che era istanziato con la parent-class\n",
    "miles.describe()"
   ]
  },
  {
   "cell_type": "markdown",
   "id": "c30cf500",
   "metadata": {},
   "source": [
    "### EREDITARIETA' MULTIPLA ###\n",
    "Una classe child può ereditare contemporaneamente da più classi."
   ]
  },
  {
   "cell_type": "code",
   "execution_count": null,
   "id": "a0e67c13",
   "metadata": {},
   "outputs": [
    {
     "name": "stdout",
     "output_type": "stream",
     "text": [
      "class1 - ciao\n",
      "class2 - ciao\n"
     ]
    }
   ],
   "source": [
    "class Class1:\n",
    "    def method1(self):\n",
    "        print('class1 - ciao')\n",
    "        \n",
    "class Class2:\n",
    "    def method2(self):\n",
    "        print('class2 - ciao')\n",
    "        \n",
    "class Class3(Class1, Class2): #### notare che class3 non ha codice, ma chiamando i metodi parent, si ottiene il print\n",
    "    pass\n",
    "\n",
    "\n",
    "c3 = Class3()\n",
    "c3.method1()\n",
    "c3.method2()\n",
    "        \n",
    "        "
   ]
  },
  {
   "cell_type": "markdown",
   "id": "10c6ee28",
   "metadata": {},
   "source": [
    "### Si viene però a creare la necessità di avere un method \"resolution order\", in quanto possono emergere ambiguità\n",
    "\n",
    "### Class3 eredita come prima classe Class2, poi Class1 ----> allora chiamando method, verrà richiamato il metodo di class2:"
   ]
  },
  {
   "cell_type": "code",
   "execution_count": 32,
   "id": "3d9975f7",
   "metadata": {},
   "outputs": [
    {
     "name": "stdout",
     "output_type": "stream",
     "text": [
      "class2 - ciao\n"
     ]
    }
   ],
   "source": [
    "#per capire, rinominiamo entrambi i metodi nello stesso modo\n",
    "\n",
    "class Class1:\n",
    "    def method(self):\n",
    "        print('class1 - ciao')\n",
    "        \n",
    "class Class2:\n",
    "    def method(self):\n",
    "        print('class2 - ciao')\n",
    "        \n",
    "class Class3(Class2, Class1):\n",
    "    pass\n",
    "\n",
    "\n",
    "# Creo istanza di class3 e verifico che method eseguita sia quella di Class1\n",
    "c3 = Class3()\n",
    "c3.method()\n"
   ]
  },
  {
   "cell_type": "markdown",
   "id": "cbe1eaf7",
   "metadata": {},
   "source": [
    "## quando uno dei due metodi viene sovrascritto però, viene usato quello sovrascritto:"
   ]
  },
  {
   "cell_type": "code",
   "execution_count": 33,
   "id": "1c0fe6b8",
   "metadata": {},
   "outputs": [
    {
     "name": "stdout",
     "output_type": "stream",
     "text": [
      "Classe3 - ciao\n"
     ]
    }
   ],
   "source": [
    "class Class3(Class1, Class2):\n",
    "    def method(self):\n",
    "        print('Classe3 - ciao')\n",
    "        \n",
    "#creiamo istanza di class3\n",
    "c3 = Class3()\n",
    "c3.method()\n"
   ]
  },
  {
   "cell_type": "markdown",
   "id": "60a48f9d",
   "metadata": {},
   "source": [
    "## USO DELLA FUNZIONE Super()\n",
    "\n",
    "### L'ereditarietà fra classi può essere facilitata dall'uso della funzione super(), una funzione built-in di Python, che permette di accedere ai metodi della classe madre "
   ]
  },
  {
   "cell_type": "code",
   "execution_count": 34,
   "id": "ec96eba0",
   "metadata": {},
   "outputs": [
    {
     "name": "stdout",
     "output_type": "stream",
     "text": [
      "Nome: \t\tMario Rossi\n",
      "Età:\t\t45\n",
      "Profilo:\tdipendente\n"
     ]
    }
   ],
   "source": [
    "#classe Dipendente, aggiungiamo metodo 'scheda personale', che stampa le informazioni disponibili\n",
    "\n",
    "class Dipendente:\n",
    "    \n",
    "    profilo = 'dipendente'\n",
    "    \n",
    "    def __init__(self, name, age) -> None:\n",
    "        self.name = name \n",
    "        self.age = age\n",
    "    \n",
    "    def scheda_personale(self):\n",
    "        scheda = f\"Nome: \\t\\t{self.name}\\nEtà:\\t\\t{self.age}\\nProfilo:\\t{self.profilo}\"\n",
    "        return scheda\n",
    "    \n",
    "    \n",
    "mariorossi = Dipendente('Mario Rossi', 45)\n",
    "print(mariorossi.scheda_personale())"
   ]
  },
  {
   "cell_type": "markdown",
   "id": "87c97c95",
   "metadata": {},
   "source": [
    "### definiamo ora due classi child, che constano di un attributo di istanza in più, diverso:"
   ]
  },
  {
   "cell_type": "code",
   "execution_count": 35,
   "id": "b7ca88d7",
   "metadata": {},
   "outputs": [],
   "source": [
    "class Amministrativo(Dipendente):\n",
    "    profilo = 'Amministrativo'\n",
    "    \n",
    "    def __init__(self, name, age, area):\n",
    "        super().__init__(name, age)\n",
    "        self.area = area\n",
    "\n",
    "class Operativo(Dipendente):\n",
    "    profilo = 'Operativo'\n",
    "    \n",
    "    def __init__(self, name, age, squadra):\n",
    "        super().__init__(name, age)\n",
    "        self.squadra = squadra"
   ]
  },
  {
   "cell_type": "markdown",
   "id": "9ce44367",
   "metadata": {},
   "source": [
    "### tramite super() abbiamo richiamato la __init__ della classe parent e l'abbiamo espansa (aggiungendo self.area e self.squadra). Abbiamo anche sovrascritto l'attributo di classe 'profilo' nelle due child-class amministrativo/operativo. Creiamo ora due istanze con le classi appena definite:"
   ]
  },
  {
   "cell_type": "code",
   "execution_count": 38,
   "id": "160b6fa4",
   "metadata": {},
   "outputs": [
    {
     "name": "stdout",
     "output_type": "stream",
     "text": [
      "Nome: \t\tLucia Pirelli\n",
      "Età:\t\t32\n",
      "Profilo:\tAmministrativo\n",
      "\n",
      "Nome: \t\tSimone Vanni\n",
      "Età:\t\t38\n",
      "Profilo:\tOperativo\n"
     ]
    }
   ],
   "source": [
    "lucia_pirelli = Amministrativo('Lucia Pirelli', 32, 'Risorse umane')\n",
    "simone_vanni = Operativo('Simone Vanni', 38, 'elettricisti 3')\n",
    "\n",
    "# ora testiamo il metodo scheda_personale() \n",
    "print(lucia_pirelli.scheda_personale())\n",
    "print()\n",
    "print(simone_vanni.scheda_personale())"
   ]
  },
  {
   "cell_type": "markdown",
   "id": "474b8bab",
   "metadata": {},
   "source": [
    "### come si può vedere sopra, la scheda delle subclass andrebbe espansa visto che consta di un attributo in più (manca da stampare area e squadra). Ridefiniamo dunque le due sottoclassi usando super() per il metodo scheda_personale:"
   ]
  },
  {
   "cell_type": "code",
   "execution_count": 43,
   "id": "7deea32a",
   "metadata": {},
   "outputs": [
    {
     "name": "stdout",
     "output_type": "stream",
     "text": [
      "Nome: \t\tLucia Pirelli\n",
      "Età:\t\t32\n",
      "Profilo:\tAmministrativo\n",
      "Area:\t\tRisorse umane\n",
      "\n",
      "Nome: \t\tSimone Vanni\n",
      "Età:\t\t38\n",
      "Profilo:\tOperativo\n",
      "Squadra:\telettricisti 3\n"
     ]
    }
   ],
   "source": [
    "class Amministrativo(Dipendente):\n",
    "    profilo = 'Amministrativo'\n",
    "    \n",
    "    def __init__(self, name, age, area):\n",
    "        super().__init__(name, age)\n",
    "        self.area = area\n",
    "    \n",
    "    def scheda_personale(self):\n",
    "        scheda = f\"\\nArea:\\t\\t{self.area}\"\n",
    "        return super().scheda_personale() + scheda\n",
    "    \n",
    "class Operativo(Dipendente):\n",
    "    profilo = 'Operativo'\n",
    "    \n",
    "    def __init__(self, name, age, squadra) :\n",
    "        super().__init__(name, age)\n",
    "        self.squadra = squadra\n",
    "        \n",
    "    def scheda_personale(self):\n",
    "        scheda = f\"\\nSquadra:\\t{self.squadra}\"\n",
    "        return super().scheda_personale() + scheda\n",
    "    \n",
    "    \n",
    "lucia_pirelli = Amministrativo('Lucia Pirelli', 32, 'Risorse umane')\n",
    "simone_vanni = Operativo('Simone Vanni', 38, 'elettricisti 3')\n",
    "\n",
    "# ora testiamo il metodo scheda_personale() \n",
    "print(lucia_pirelli.scheda_personale())\n",
    "print()\n",
    "print(simone_vanni.scheda_personale())"
   ]
  }
 ],
 "metadata": {
  "kernelspec": {
   "display_name": "Python 3",
   "language": "python",
   "name": "python3"
  },
  "language_info": {
   "codemirror_mode": {
    "name": "ipython",
    "version": 3
   },
   "file_extension": ".py",
   "mimetype": "text/x-python",
   "name": "python",
   "nbconvert_exporter": "python",
   "pygments_lexer": "ipython3",
   "version": "3.13.5"
  }
 },
 "nbformat": 4,
 "nbformat_minor": 5
}
