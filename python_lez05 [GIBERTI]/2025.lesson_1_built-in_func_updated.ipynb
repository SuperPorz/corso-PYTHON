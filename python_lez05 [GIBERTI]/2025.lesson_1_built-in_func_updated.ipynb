{
 "cells": [
  {
   "cell_type": "markdown",
   "id": "a2b62c7f",
   "metadata": {},
   "source": [
    "## Built-in funcions ##"
   ]
  },
  {
   "cell_type": "markdown",
   "id": "53eba228",
   "metadata": {},
   "source": [
    "Una funzione in python rappresenta un blocco di codice da eseguire\n",
    " tutte le volte che viene richiamato. Può non avere parametri, avere\n",
    " un numero fisso di parametri o anche un numero arbitrario di parametri.\n",
    " Può restituire qualcosa oppure eseguire solamente codice.+Python, di base, imlementa un certo numero di funzioni innate, built-in, di varia natura."
   ]
  },
  {
   "cell_type": "markdown",
   "id": "b6187b83",
   "metadata": {},
   "source": [
    "### Funzioni matematiche e similari ###"
   ]
  },
  {
   "cell_type": "code",
   "execution_count": 3,
   "id": "080eba1e",
   "metadata": {},
   "outputs": [
    {
     "name": "stdout",
     "output_type": "stream",
     "text": [
      "1.34\n",
      "4.123105625617661\n",
      "34.0\n"
     ]
    }
   ],
   "source": [
    "# abs(x)  restituisce il valore assoluto di x, numero reale o complesso\n",
    "\n",
    "print(abs(-1.34))\n",
    "print(abs(1+4j))\n",
    "print(abs(34j))"
   ]
  },
  {
   "cell_type": "code",
   "execution_count": 8,
   "id": "7741006d",
   "metadata": {},
   "outputs": [
    {
     "name": "stdout",
     "output_type": "stream",
     "text": [
      "-1.15\n",
      "1.15\n",
      "abs(a) = 1.15\n"
     ]
    }
   ],
   "source": [
    "# La funzione restituisce un valore, ma non cambia la variabile originale\n",
    "\n",
    "a = -1.15\n",
    "b = abs(a)\n",
    "print(a)\n",
    "print(b)\n",
    "print(\"abs(a) =\", abs(a))\n",
    "\n",
    "# quindi posso assegnare il valore a una nuova variabile"
   ]
  },
  {
   "cell_type": "code",
   "execution_count": 11,
   "id": "a537c155",
   "metadata": {},
   "outputs": [
    {
     "name": "stdout",
     "output_type": "stream",
     "text": [
      "1\n",
      "2.4567\n",
      "2.5\n"
     ]
    }
   ],
   "source": [
    "# round(numero, digits) restituisce il numero arrotondato al\n",
    "# numero di cifre digiti specificato (default 0)\n",
    "print(round(1.3456))\n",
    "\n",
    "a = 2.4567\n",
    "b = round(a, 1)\n",
    "\n",
    "print(a)\n",
    "print(b)"
   ]
  },
  {
   "cell_type": "code",
   "execution_count": 14,
   "id": "268aa9cd",
   "metadata": {},
   "outputs": [
    {
     "name": "stdout",
     "output_type": "stream",
     "text": [
      "21\n",
      "31\n"
     ]
    }
   ],
   "source": [
    "# sum(iterator, start)  restituisce la somma degli elementi di un iterator\n",
    "# start è il numero da cui partire (viene aggiunto alla somma)\n",
    "\n",
    "a = (1,2,3,4,5,6)\n",
    "\n",
    "print(sum(a))\n",
    "print(sum(a, 10))"
   ]
  },
  {
   "cell_type": "code",
   "execution_count": 16,
   "id": "3f785f2e",
   "metadata": {},
   "outputs": [
    {
     "name": "stdout",
     "output_type": "stream",
     "text": [
      "6\n"
     ]
    }
   ],
   "source": [
    "# Funziona anche con liste e set\n",
    "# Se però uso un dizionario, somma le chiavi\n",
    "\n",
    "diz = {1: 10, 2: 20, 3: 30}\n",
    "\n",
    "print(sum(diz))"
   ]
  },
  {
   "cell_type": "code",
   "execution_count": 17,
   "id": "e042c251",
   "metadata": {},
   "outputs": [
    {
     "data": {
      "text/plain": [
       "25"
      ]
     },
     "execution_count": 17,
     "metadata": {},
     "output_type": "execute_result"
    }
   ],
   "source": [
    "# pow(x, y) restiruisce la potenza x^y\n",
    "\n",
    "pow(5, 2)"
   ]
  },
  {
   "cell_type": "code",
   "execution_count": 27,
   "id": "07f1435b",
   "metadata": {},
   "outputs": [
    {
     "name": "stdout",
     "output_type": "stream",
     "text": [
      "3\n",
      "9\n",
      "<class 'int'>\n",
      "\n",
      "3.0\n",
      "3.14\n",
      "\n",
      "(2.4+0j)\n",
      "(3+4j)\n"
     ]
    }
   ],
   "source": [
    "# int(), float() e complex() restituiscono un numero intero, float\n",
    "# e complesso, rispettivamente. \n",
    "\n",
    "\n",
    "print( int(3.14))\n",
    "print( int(\"9\"))\n",
    "print(type(int(\"3\")))\n",
    "print()\n",
    "print(float(3))\n",
    "print(float(\"3.14\"))\n",
    "print()\n",
    "print( complex(2.4))\n",
    "print( complex(\"3+4j\"))"
   ]
  },
  {
   "cell_type": "code",
   "execution_count": 37,
   "id": "6255b3eb",
   "metadata": {},
   "outputs": [
    {
     "name": "stdout",
     "output_type": "stream",
     "text": [
      "ciao\n",
      "15\n",
      "4.55\n",
      "<class 'float'>\n"
     ]
    }
   ],
   "source": [
    "# La funzione built-in eval() valuta un'esressione e, se è\n",
    "# valida restituisce il risultato, la esegue in altre parole.\n",
    "\n",
    "expr = \"print('ciao')\"\n",
    "eval(expr)\n",
    "\n",
    "print(eval(\"12 + 3\"))\n",
    "print( eval(\"4.55\"))\n",
    "print(type(eval(\"3.44\")))"
   ]
  },
  {
   "cell_type": "markdown",
   "id": "cf3a9327",
   "metadata": {},
   "source": [
    "### Funzioni per le stringhe ###\n",
    "Le stringhe in Python sono una classe: la classe 'str' e come tali, \n",
    "possiedono diveri metodi: vediamone alcuni"
   ]
  },
  {
   "cell_type": "code",
   "execution_count": 39,
   "id": "6e1cb93e",
   "metadata": {},
   "outputs": [
    {
     "name": "stdout",
     "output_type": "stream",
     "text": [
      "<class 'str'>\n"
     ]
    }
   ],
   "source": [
    "print(type(\"stringa\"))"
   ]
  },
  {
   "cell_type": "code",
   "execution_count": null,
   "id": "acbf59f5",
   "metadata": {},
   "outputs": [
    {
     "name": "stdout",
     "output_type": "stream",
     "text": [
      "'alessio'.capitalize() = Alessio\n",
      "'alessio'.upper() = ALESSIO\n",
      "'ALESSIO'.lower() = alessio\n"
     ]
    }
   ],
   "source": [
    "# La chiamata del metodo avviene con la sintassi col punto \"stringa\".funzione()\n",
    "# Funzioni di utilità pratica\n",
    "\n",
    "# Per agire su maiuscole e minuscole\n",
    "\n",
    "print(\"'alessio'.capitalize() =\", \"alessio\".capitalize())\n",
    "print(\"'alessio'.upper() =\", \"alessio\".upper())\n",
    "print(\"'ALESSIO'.lower() =\", \"ALESSIO\".lower())"
   ]
  },
  {
   "cell_type": "code",
   "execution_count": null,
   "id": "13e2d16e",
   "metadata": {},
   "outputs": [
    {
     "name": "stdout",
     "output_type": "stream",
     "text": [
      "Cat, table\n",
      "    Alessio   \n",
      "Alessi\n",
      "lessio\n",
      "Alessio\n"
     ]
    }
   ],
   "source": [
    "# Per rimuovere parti di stringa\n",
    "\n",
    "# strip() rimuove gli spazi all'inizio e alla fine della stringa\n",
    "print(\"    Cat, table    \".strip())\n",
    "\n",
    "# si possono anche specificare i caratteri da rimuovere, ma sempre\n",
    "# all'inizio e alla fine della stringa\n",
    "\n",
    "print( \"    Alessio   \".strip(\"o\"))\n",
    "print(\"oAlessiooooooo\".strip(\"o\"))\n",
    "\n",
    "# le versioni lstrip() e rstrip()del metodo rimuovono solo\n",
    "# all'inizio e alla fine della stringa, rispettivamente\n",
    "\n",
    "print(\"Alessio\".lstrip(\"A\"))\n",
    "print(\"Alessio\".rstrip(\"A\"))\n"
   ]
  },
  {
   "cell_type": "code",
   "execution_count": 54,
   "id": "2c311155",
   "metadata": {},
   "outputs": [
    {
     "name": "stdout",
     "output_type": "stream",
     "text": [
      "alessio\n",
      "AlESSio\n"
     ]
    }
   ],
   "source": [
    "# PEr sostituire parti di stringa\n",
    "\n",
    "print(\"Alessio\".replace(\"A\", \"a\"))\n",
    "print(\"Alessio\".replace(\"ess\", \"ESS\"))"
   ]
  },
  {
   "cell_type": "code",
   "execution_count": 76,
   "id": "51ac32f9",
   "metadata": {},
   "outputs": [
    {
     "name": "stdout",
     "output_type": "stream",
     "text": [
      "Occorrenze in una sottostringa\n",
      "2\n",
      "1\n",
      "\n",
      "Indice di una substring:\n",
      "4\n",
      "4\n",
      "-1\n",
      "\n",
      "Check se la substring '_ciao' inizia con '_'\n",
      "True\n",
      "False\n",
      "True\n",
      "\n",
      "Se una stringa è di un determinato tipo:\n",
      "True\n",
      "True\n",
      "True\n",
      "False\n",
      "False\n"
     ]
    }
   ],
   "source": [
    "# FUNZIONI PER CHECK E INFO SULLE STRINGHE\n",
    "\n",
    "# contare le occorrenze di una substring\n",
    "print( \"Occorrenze in una sottostringa\")\n",
    "print(\"Bologna\".count('o'))\n",
    "print(\"Bologna\".count('gna'))\n",
    "print()\n",
    "\n",
    "# trovare l'indice di una sottostringa\n",
    "print(\"Indice di una substring:\")\n",
    "print(\"Bologna\".find('g'))\n",
    "print(\"Bologna\".index('g')) # sono metodi sinonimi\n",
    "print(\"Bologna\".find('df'))  # restituisce -1 se non viene trovata\n",
    "print()\n",
    "\n",
    "# controllare se una stringa inizia o finisce con una certa substring\n",
    "print(\"Check se la substring '_ciao' inizia con '_'\")\n",
    "print(\"_ciao\".startswith('_')) \n",
    "print(\"_ciao\".endswith('_'))\n",
    "print(\"_ciao\".endswith('o'))\n",
    "print()\n",
    "\n",
    "# controllare se tutti i caratteri di una stringa sono qualcosa di specifico\n",
    "print(\"Se una stringa è di un determinato tipo:\")\n",
    "print(\"mercoledì\".isalnum()) #se è alfanumerica\n",
    "print(\"ciao\".isalpha()) # se tutti sono caratteri\n",
    "print(\"123\".isdigit()) # se tutti sono cifre\n",
    "print(\"230.4\".isdigit())\n",
    "print(\"230.4\".isnumeric())\n"
   ]
  },
  {
   "cell_type": "code",
   "execution_count": 78,
   "id": "768cc531",
   "metadata": {},
   "outputs": [
    {
     "name": "stdout",
     "output_type": "stream",
     "text": [
      "['Split', 'di', 'una', 'stringa']\n",
      "['2134231', 'fevqfv', '1g33']\n"
     ]
    }
   ],
   "source": [
    "# La funzione split() è molto utile perché permette di tagliare una\n",
    "# stringa in base a un separatore e restituisce una lista\n",
    "# con i pezzzi di strnga tagliati. Se non si specifica il separatore,\n",
    "# viene usato lo soazio di default\n",
    "\n",
    "print( \"Split di una stringa\".split())\n",
    "print(\"2134231_fevqfv_1g33\".split(\"_\"))"
   ]
  },
  {
   "cell_type": "code",
   "execution_count": null,
   "id": "89ddf31e",
   "metadata": {},
   "outputs": [
    {
     "data": {
      "text/plain": [
       "'`'"
      ]
     },
     "execution_count": 80,
     "metadata": {},
     "output_type": "execute_result"
    }
   ],
   "source": [
    "# Le funzioni che vediamo adesso non riguardano esattamente le stringhe,\n",
    "# ma sono molto utili per acvere il codice ACII di un carattere che non sappiamo\n",
    "# come inserire ma lo possiamo copiare.\n",
    "# Un esempio è il seguente simbolo, un singolo apice storto \n",
    "\n",
    "# la funzione che stampa il carattere associato al codice ascii dato\n",
    "# come arogmento è chr():\n",
    "\n",
    "chr(96)"
   ]
  },
  {
   "cell_type": "code",
   "execution_count": null,
   "id": "9bac92b8",
   "metadata": {},
   "outputs": [
    {
     "name": "stdout",
     "output_type": "stream",
     "text": [
      "96\n"
     ]
    }
   ],
   "source": [
    " # Metre la funzione per stampare io codice asccii di un carattere è ord()\n",
    "\n",
    "print(ord('`'))"
   ]
  },
  {
   "cell_type": "code",
   "execution_count": 82,
   "id": "325cb5a0",
   "metadata": {},
   "outputs": [
    {
     "name": "stdout",
     "output_type": "stream",
     "text": [
      "0 \u0000\n",
      "1 \u0001\n",
      "2 \u0002\n",
      "3 \u0003\n",
      "4 \u0004\n",
      "5 \u0005\n",
      "6 \u0006\n",
      "7 \u0007\n",
      "8\n",
      "9 \t\n",
      "10 \n",
      "\n",
      "11 \u000b\n",
      "12 \f\n",
      "13 \n",
      "14 \u000e\n",
      "15 \u000f\n",
      "16 \u0010\n",
      "17 \u0011\n",
      "18 \u0012\n",
      "19 \u0013\n",
      "20 \u0014\n",
      "21 \u0015\n",
      "22 \u0016\n",
      "23 \u0017\n",
      "24 \u0018\n",
      "25 \u0019\n",
      "26 \u001a\n",
      "27 \u001b\n",
      "28 \u001c\n",
      "29 \u001d\n",
      "30 \u001e\n",
      "31 \u001f\n",
      "32  \n",
      "33 !\n",
      "34 \"\n",
      "35 #\n",
      "36 $\n",
      "37 %\n",
      "38 &\n",
      "39 '\n",
      "40 (\n",
      "41 )\n",
      "42 *\n",
      "43 +\n",
      "44 ,\n",
      "45 -\n",
      "46 .\n",
      "47 /\n",
      "48 0\n",
      "49 1\n",
      "50 2\n",
      "51 3\n",
      "52 4\n",
      "53 5\n",
      "54 6\n",
      "55 7\n",
      "56 8\n",
      "57 9\n",
      "58 :\n",
      "59 ;\n",
      "60 <\n",
      "61 =\n",
      "62 >\n",
      "63 ?\n",
      "64 @\n",
      "65 A\n",
      "66 B\n",
      "67 C\n",
      "68 D\n",
      "69 E\n",
      "70 F\n",
      "71 G\n",
      "72 H\n",
      "73 I\n",
      "74 J\n",
      "75 K\n",
      "76 L\n",
      "77 M\n",
      "78 N\n",
      "79 O\n",
      "80 P\n",
      "81 Q\n",
      "82 R\n",
      "83 S\n",
      "84 T\n",
      "85 U\n",
      "86 V\n",
      "87 W\n",
      "88 X\n",
      "89 Y\n",
      "90 Z\n",
      "91 [\n",
      "92 \\\n",
      "93 ]\n",
      "94 ^\n",
      "95 _\n",
      "96 `\n",
      "97 a\n",
      "98 b\n",
      "99 c\n",
      "100 d\n",
      "101 e\n",
      "102 f\n",
      "103 g\n",
      "104 h\n",
      "105 i\n",
      "106 j\n",
      "107 k\n",
      "108 l\n",
      "109 m\n",
      "110 n\n",
      "111 o\n",
      "112 p\n",
      "113 q\n",
      "114 r\n",
      "115 s\n",
      "116 t\n",
      "117 u\n",
      "118 v\n",
      "119 w\n",
      "120 x\n",
      "121 y\n",
      "122 z\n",
      "123 {\n",
      "124 |\n",
      "125 }\n",
      "126 ~\n",
      "127 \n",
      "128 \n",
      "129 \n",
      "130 \n",
      "131 \n",
      "132 \n",
      "133 \n",
      "134 \n",
      "135 \n",
      "136 \n",
      "137 \n",
      "138 \n",
      "139 \n",
      "140 \n",
      "141 \n",
      "142 \n",
      "143 \n",
      "144 \n",
      "145 \n",
      "146 \n",
      "147 \n",
      "148 \n",
      "149 \n",
      "150 \n",
      "151 \n",
      "152 \n",
      "153 \n",
      "154 \n",
      "155 \n",
      "156 \n",
      "157 \n",
      "158 \n",
      "159 \n",
      "160  \n",
      "161 ¡\n",
      "162 ¢\n",
      "163 £\n",
      "164 ¤\n",
      "165 ¥\n",
      "166 ¦\n",
      "167 §\n",
      "168 ¨\n",
      "169 ©\n",
      "170 ª\n",
      "171 «\n",
      "172 ¬\n",
      "173 ­\n",
      "174 ®\n",
      "175 ¯\n",
      "176 °\n",
      "177 ±\n",
      "178 ²\n",
      "179 ³\n",
      "180 ´\n",
      "181 µ\n",
      "182 ¶\n",
      "183 ·\n",
      "184 ¸\n",
      "185 ¹\n",
      "186 º\n",
      "187 »\n",
      "188 ¼\n",
      "189 ½\n",
      "190 ¾\n",
      "191 ¿\n",
      "192 À\n",
      "193 Á\n",
      "194 Â\n",
      "195 Ã\n",
      "196 Ä\n",
      "197 Å\n",
      "198 Æ\n",
      "199 Ç\n",
      "200 È\n",
      "201 É\n",
      "202 Ê\n",
      "203 Ë\n",
      "204 Ì\n",
      "205 Í\n",
      "206 Î\n",
      "207 Ï\n",
      "208 Ð\n",
      "209 Ñ\n",
      "210 Ò\n",
      "211 Ó\n",
      "212 Ô\n",
      "213 Õ\n",
      "214 Ö\n",
      "215 ×\n",
      "216 Ø\n",
      "217 Ù\n",
      "218 Ú\n",
      "219 Û\n",
      "220 Ü\n",
      "221 Ý\n",
      "222 Þ\n",
      "223 ß\n",
      "224 à\n",
      "225 á\n",
      "226 â\n",
      "227 ã\n",
      "228 ä\n",
      "229 å\n",
      "230 æ\n",
      "231 ç\n",
      "232 è\n",
      "233 é\n",
      "234 ê\n",
      "235 ë\n",
      "236 ì\n",
      "237 í\n",
      "238 î\n",
      "239 ï\n",
      "240 ð\n",
      "241 ñ\n",
      "242 ò\n",
      "243 ó\n",
      "244 ô\n",
      "245 õ\n",
      "246 ö\n",
      "247 ÷\n",
      "248 ø\n",
      "249 ù\n",
      "250 ú\n",
      "251 û\n",
      "252 ü\n",
      "253 ý\n",
      "254 þ\n"
     ]
    }
   ],
   "source": [
    "# Possiamo listare tutti i simboli:\n",
    "\n",
    "for i in range(255):\n",
    "    print(i, chr(i))"
   ]
  },
  {
   "cell_type": "code",
   "execution_count": 83,
   "id": "87bf24a0",
   "metadata": {},
   "outputs": [
    {
     "data": {
      "text/plain": [
       "['supponiamo di avere un testo qualsiasi',\n",
       " ' però senza maiuscole a inizio frase']"
      ]
     },
     "execution_count": 83,
     "metadata": {},
     "output_type": "execute_result"
    }
   ],
   "source": [
    "# ESEMPIO / ESERCIZIO: sfruttiamo più funzioni built-in per\n",
    "# manipolare un testo\n",
    "\n",
    "txt = \"supponiamo di avere un testo qualsiasi. però senza maiuscole a inizio frase\"\n",
    "\n",
    "# sepraiamo le frasi con il punto\n",
    "txt.split(\".\")"
   ]
  },
  {
   "cell_type": "code",
   "execution_count": 85,
   "id": "db00d034",
   "metadata": {},
   "outputs": [
    {
     "name": "stdout",
     "output_type": "stream",
     "text": [
      "Supponiamo di avere un testo qualsiasi. Però senza maiuscole a inizio frase. \n"
     ]
    }
   ],
   "source": [
    "# Notiamo che il separatore viene elininato dai pezzi tagliati\n",
    "\n",
    "result = \"\"\n",
    "for sent in txt.split(\".\"):\n",
    "    result += sent.lstrip().capitalize() + \". \"\n",
    "\n",
    "print(result)"
   ]
  },
  {
   "cell_type": "markdown",
   "id": "f89938b3",
   "metadata": {},
   "source": [
    "### Funzioni di liste e tuple ###"
   ]
  },
  {
   "cell_type": "code",
   "execution_count": 88,
   "id": "3051bca6",
   "metadata": {},
   "outputs": [
    {
     "name": "stdout",
     "output_type": "stream",
     "text": [
      "all(seq1) = True\n",
      "any(seq1) = True\n",
      "all(seq2) = False\n",
      "any(seq2) = True\n"
     ]
    }
   ],
   "source": [
    "# all() e any() agiscono su un argomento iterabile e restituiscono True\n",
    "# o False a seconda che tutti o almeno uno degli elementi siano True\n",
    "\n",
    "seq1 = [1,4,5,3]\n",
    "seq2 = [0,1,4,4]\n",
    "\n",
    "print(\"all(seq1) =\", all(seq1))\n",
    "print(\"any(seq1) =\", any(seq1))\n",
    "print(\"all(seq2) =\", all(seq2))\n",
    "print(\"any(seq2) =\", any(seq2))"
   ]
  },
  {
   "cell_type": "code",
   "execution_count": 91,
   "id": "6cd2a3e0",
   "metadata": {},
   "outputs": [
    {
     "name": "stdout",
     "output_type": "stream",
     "text": [
      "all(d) = True\n",
      "any(d) = True\n"
     ]
    }
   ],
   "source": [
    "# queste funzioni funzionano su qualsiasi iterabile ma su un\n",
    "# dizionario controllano solo le keys, non i values\n",
    "\n",
    "d = {\"A\": 12, \"B\": (2,5,6), \"C\": None}\n",
    "\n",
    "print(\"all(d) =\", all(d))\n",
    "print(\"any(d) =\", any(d))"
   ]
  },
  {
   "cell_type": "code",
   "execution_count": 93,
   "id": "044bca89",
   "metadata": {},
   "outputs": [
    {
     "name": "stdout",
     "output_type": "stream",
     "text": [
      "all(d) = False\n",
      "any(d) = True\n"
     ]
    }
   ],
   "source": [
    "# A volte si deve controllare che la variabile abbia un valore oppure no\n",
    "# any() restituisce True anche se una delle keys è zero\n",
    "\n",
    "d = {0: 12, \"B\": (2,5,6)}\n",
    "\n",
    "print(\"all(d) =\", all(d))\n",
    "print(\"any(d) =\", any(d))"
   ]
  },
  {
   "cell_type": "code",
   "execution_count": 98,
   "id": "ba017d86",
   "metadata": {},
   "outputs": [
    {
     "name": "stdout",
     "output_type": "stream",
     "text": [
      "True\n",
      "False\n",
      "True\n",
      "False\n"
     ]
    }
   ],
   "source": [
    "# La stringa vuota e la lista / tupla vuota restituiscono False\n",
    "\n",
    "a = [\"\", \"asdqf\"]\n",
    "\n",
    "print( any(a))\n",
    "print( all(a))\n",
    "\n",
    "b = ( [], [2,3])\n",
    "print(any(b))\n",
    "print(all(b))"
   ]
  },
  {
   "cell_type": "code",
   "execution_count": 99,
   "id": "3752f2f2",
   "metadata": {},
   "outputs": [
    {
     "name": "stdout",
     "output_type": "stream",
     "text": [
      "min(a) = -9\n",
      "max(a) = 15\n"
     ]
    }
   ],
   "source": [
    "# min() e max() restituiscono il min e max di una sequenza\n",
    "\n",
    "a = (12, -9, 0, 15)\n",
    "\n",
    "print( \"min(a) =\", min(a))\n",
    "print(\"max(a) =\", max(a))"
   ]
  },
  {
   "cell_type": "code",
   "execution_count": 100,
   "id": "e57dbc57",
   "metadata": {},
   "outputs": [
    {
     "name": "stdout",
     "output_type": "stream",
     "text": [
      "alessio\n",
      "zeno\n"
     ]
    }
   ],
   "source": [
    "#  E funzionano anche con le stringhe, min e max riferiti all'ordine alfabetico\n",
    "\n",
    "words = [\"alessio\", \"fransceco\", \"zeno\"]\n",
    "\n",
    "print(min(words))\n",
    "print(max(words))"
   ]
  },
  {
   "cell_type": "code",
   "execution_count": 102,
   "id": "f48483c1",
   "metadata": {},
   "outputs": [
    {
     "name": "stdout",
     "output_type": "stream",
     "text": [
      "[-9, 0, 12, 15]\n",
      "[15, 12, 0, -9]\n",
      "\n",
      "con array di stringhe:\n",
      "['zeno', 'fransceco', 'alessio']\n"
     ]
    }
   ],
   "source": [
    "# sorted() restituisce la sequenza ordinata in senso crescente.\n",
    "# con reverse=True si inverte l'ordine\n",
    "\n",
    "a = [12, -9, 0 ,15]\n",
    "\n",
    "print( sorted(a))\n",
    "print( sorted(a, reverse=True))\n",
    "print()\n",
    "print(\"con array di stringhe:\")\n",
    "print( sorted(words, reverse=True))"
   ]
  },
  {
   "cell_type": "code",
   "execution_count": 105,
   "id": "293fff86",
   "metadata": {},
   "outputs": [
    {
     "name": "stdout",
     "output_type": "stream",
     "text": [
      "Sequenza originale: ['alessio', 'fransceco', 'zeno']\n",
      "Sequenza sorted: ['zeno', 'fransceco', 'alessio']\n"
     ]
    }
   ],
   "source": [
    "# Attenzione: non cambia l'oggetto orginale, ma ne restituisce uno nuovo\n",
    "\n",
    "new = sorted(words, reverse = True)\n",
    "\n",
    "print(\"Sequenza originale:\", words)\n",
    "print(\"Sequenza sorted:\", new)"
   ]
  },
  {
   "cell_type": "markdown",
   "id": "dce20ec9",
   "metadata": {},
   "source": [
    "### La funzione lambda: una funzione anonima con definizione \"al volo\" ###"
   ]
  },
  {
   "cell_type": "code",
   "execution_count": 107,
   "id": "c9fc1466",
   "metadata": {},
   "outputs": [
    {
     "name": "stdout",
     "output_type": "stream",
     "text": [
      "9\n"
     ]
    }
   ],
   "source": [
    "# La funzione lambda è una fz anonima che viene definita tramite la sintassi:\n",
    "\n",
    "y = lambda x: x**2\n",
    "\n",
    "print( y(3))"
   ]
  },
  {
   "cell_type": "code",
   "execution_count": null,
   "id": "2ee4f28b",
   "metadata": {},
   "outputs": [
    {
     "name": "stdout",
     "output_type": "stream",
     "text": [
      "CIAO\n"
     ]
    }
   ],
   "source": [
    "# La sua applicazione è generale: ad esempio con metodi stringa\n",
    "\n",
    "f = lambda x: x.upper()\n",
    "print(f(\"ciao\"))"
   ]
  },
  {
   "cell_type": "code",
   "execution_count": 1,
   "id": "08230118",
   "metadata": {},
   "outputs": [
    {
     "name": "stdout",
     "output_type": "stream",
     "text": [
      "6\n"
     ]
    }
   ],
   "source": [
    "# Può anche essere usata con argomenti multipli\n",
    "\n",
    "y = lambda x, y, z: x+y+z\n",
    "\n",
    "print( y(1,2,3))"
   ]
  },
  {
   "cell_type": "code",
   "execution_count": 2,
   "id": "050f9904",
   "metadata": {},
   "outputs": [
    {
     "data": {
      "text/plain": [
       "16"
      ]
     },
     "execution_count": 2,
     "metadata": {},
     "output_type": "execute_result"
    }
   ],
   "source": [
    "# Serve per definire \"al volo\" funzioni \"piccole\", si può anche\n",
    "# compattare ulteriormente:\n",
    "\n",
    "(lambda x: x*x)(4)\n"
   ]
  },
  {
   "cell_type": "code",
   "execution_count": 4,
   "id": "c694328b",
   "metadata": {},
   "outputs": [
    {
     "name": "stdout",
     "output_type": "stream",
     "text": [
      "[('bulloni', 24), ('rondelle', 12), ('viti', 8)]\n"
     ]
    }
   ],
   "source": [
    "# La funzione lambda potrebbe essere utile per passare una funzione come\n",
    "# argomento ad un'altra funzione.\n",
    "# La funzione sorted che abbiamo visto ha anche un altro argomento\n",
    "# oltre a reverse, che è key. Si tratta di una funzione che viene appplicata\n",
    "# a ogni elemento della sequenza prima di ordinarla.\n",
    "# Vediamo questo esempio: applichimao sorted a una lista di oggetti\n",
    "# a due o più dimensioni\n",
    "\n",
    "componenti = [(\"viti\", 8), (\"bulloni\", 24), (\"rondelle\", 12)]\n",
    "\n",
    "componenti_ordinati = sorted(componenti)\n",
    "\n",
    "print(  componenti_ordinati)"
   ]
  },
  {
   "cell_type": "code",
   "execution_count": 5,
   "id": "0058521f",
   "metadata": {},
   "outputs": [
    {
     "name": "stdout",
     "output_type": "stream",
     "text": [
      "[('viti', 8), ('rondelle', 12), ('bulloni', 24)]\n"
     ]
    }
   ],
   "source": [
    "# Cio che succede è che viene preso il primo elemento della tupla.\n",
    "# Ma se vogliamo ordinare in base al numero di oggetti, è il secondo elemento.\n",
    "# dobbiamo passare l'informazione all'argomento key della fz sorted:\n",
    "\n",
    "componenti_ordinati = sorted(componenti, key=lambda x: x[1])\n",
    "print( componenti_ordinati)"
   ]
  },
  {
   "cell_type": "markdown",
   "id": "384d55fd",
   "metadata": {},
   "source": [
    "### Funzioni varie ###"
   ]
  },
  {
   "cell_type": "code",
   "execution_count": 10,
   "id": "0dd8f637",
   "metadata": {},
   "outputs": [
    {
     "name": "stdout",
     "output_type": "stream",
     "text": [
      "0\n",
      "1\n",
      "2\n",
      "3\n",
      "4\n",
      "\n",
      "1\n",
      "2\n",
      "3\n",
      "4\n",
      "\n",
      "1\n",
      "3\n"
     ]
    }
   ],
   "source": [
    "# range(start, stop, step) restituisce una sequenza di numeri ottenuti\n",
    "# partendo da start fino a stop, a salti di step \n",
    "\n",
    "for i in range(5):\n",
    "    print(i)\n",
    "\n",
    "print()\n",
    "\n",
    "for i in range(1, 5):\n",
    "    print(i)\n",
    "\n",
    "print()\n",
    "\n",
    "for i in range(1,5,2):\n",
    "    print(i)"
   ]
  },
  {
   "cell_type": "code",
   "execution_count": 11,
   "id": "af784915",
   "metadata": {},
   "outputs": [
    {
     "name": "stdout",
     "output_type": "stream",
     "text": [
      "alessio 0\n",
      "francesco 23\n",
      "zeno 34\n"
     ]
    }
   ],
   "source": [
    "# zip() restituisce un iterator di tuple ottenuto da più iteratori\n",
    "\n",
    "s1 = [\"alessio\", \"francesco\", \"zeno\"]\n",
    "s2 = [0, 23, 34, 56, 89]\n",
    "\n",
    "for o1,o2 in zip(s1,s2):\n",
    "    print(o1, o2)"
   ]
  },
  {
   "cell_type": "code",
   "execution_count": 12,
   "id": "d9ad9a89",
   "metadata": {},
   "outputs": [
    {
     "name": "stdout",
     "output_type": "stream",
     "text": [
      "alessio 0 True\n",
      "francesco 23 True\n",
      "zeno 34 False\n"
     ]
    }
   ],
   "source": [
    "# funziona con un numero arbitrario di iteratori:\n",
    "\n",
    "\n",
    "s1 = [\"alessio\", \"francesco\", \"zeno\"]\n",
    "s2 = [0, 23, 34, 56, 89]\n",
    "s3 = [True, True, False, True]\n",
    "\n",
    "for o1,o2,o3 in zip(s1,s2,s3):\n",
    "    print(o1,o2,o3)"
   ]
  },
  {
   "cell_type": "code",
   "execution_count": null,
   "id": "aec0bb46",
   "metadata": {},
   "outputs": [],
   "source": [
    "# Nota: gli iteratori non devono essere della stessa dimensione:v\n",
    "# la dimensione minore ferma l'iterazione"
   ]
  },
  {
   "cell_type": "code",
   "execution_count": 13,
   "id": "4784ef0a",
   "metadata": {},
   "outputs": [
    {
     "name": "stdout",
     "output_type": "stream",
     "text": [
      "0 alessio\n",
      "1 francesco\n",
      "2 zeno\n"
     ]
    }
   ],
   "source": [
    "# enumerate() agisce su una sequenza e restituisce una tupla in cui\n",
    "# ogni oggetto viene numerato\n",
    "\n",
    "for i, el in enumerate(s1):\n",
    "    print(i, el)"
   ]
  },
  {
   "cell_type": "code",
   "execution_count": null,
   "id": "5f3e463b",
   "metadata": {},
   "outputs": [
    {
     "name": "stdout",
     "output_type": "stream",
     "text": [
      "False\n",
      "True\n"
     ]
    }
   ],
   "source": [
    "# isinstance(obejct, type) può essere ultile per verificare se un oggetto\n",
    "# è o meno un'istanza di type\n",
    "\n",
    "# a, b = 8, 2\n",
    "\n",
    "print( isinstance((1,2,3), list) )\n",
    "print( isinstance([1,2,3], list) )"
   ]
  },
  {
   "cell_type": "markdown",
   "id": "c445ae72",
   "metadata": {},
   "source": [
    "### Le funzioni map() e filter() ###"
   ]
  },
  {
   "cell_type": "code",
   "execution_count": 16,
   "id": "ba5b0cfe",
   "metadata": {},
   "outputs": [
    {
     "data": {
      "text/plain": [
       "<map at 0x7f9266673be0>"
      ]
     },
     "execution_count": 16,
     "metadata": {},
     "output_type": "execute_result"
    }
   ],
   "source": [
    "# map() è una built-in function che appplica una funzione a ogni oggetto\n",
    "# dell'iterabile, restituendo un generatore.\n",
    "# La sintassi: map(function, iterabile)\n",
    "\n",
    "# Definiamo una lista di stringhe e mappiamo attraverso la funzione len(),\n",
    "# che restituisce la lunghezza di una stringa\n",
    "\n",
    "sq = ['19', 'Piccadilly', '9.3']\n",
    "map(len, sq)"
   ]
  },
  {
   "cell_type": "code",
   "execution_count": 17,
   "id": "05b8fa71",
   "metadata": {},
   "outputs": [
    {
     "data": {
      "text/plain": [
       "[2, 10, 3]"
      ]
     },
     "execution_count": 17,
     "metadata": {},
     "output_type": "execute_result"
    }
   ],
   "source": [
    "# l'oggetto ottenuto non è immediatamente leggibile.\n",
    "# Per avere una lista vera e propria possiamo usare list\n",
    "\n",
    "mapped = map(len, sq)\n",
    "list(mapped)"
   ]
  },
  {
   "cell_type": "code",
   "execution_count": null,
   "id": "78e774cf",
   "metadata": {},
   "outputs": [
    {
     "name": "stdout",
     "output_type": "stream",
     "text": [
      "['12,32', '10', '0,98']\n",
      "[12.32, 10, 0.98]\n"
     ]
    }
   ],
   "source": [
    "# Può anche essere usata con una lambda function\n",
    "\n",
    "lista = [\"12.32\", \"10\", \"0.98\"]\n",
    "\n",
    "mapped = map( lambda x: x.replace(\".\", \",\"), lista )\n",
    "mapped2= map( lambda x: eval(x), lista)\n",
    "\n",
    "print( list(mapped))\n",
    "print( list(mapped2))"
   ]
  },
  {
   "cell_type": "code",
   "execution_count": 20,
   "id": "bc9cda48",
   "metadata": {},
   "outputs": [
    {
     "data": {
      "text/plain": [
       "['ALESSIO', 'FRANCESCO', 'ZENO']"
      ]
     },
     "execution_count": 20,
     "metadata": {},
     "output_type": "execute_result"
    }
   ],
   "source": [
    "# La cosa interessante è la funzione map() è scritta in C ed è\n",
    "# altamente ottimizzata, e quindi molto più veloce di un ciclo for!\n",
    "\n",
    "# Le built-in funcions si possono anche specificare in questo modo:\n",
    " # classe.nomefunzione senza parentesi\n",
    "\n",
    "lista = [\"alessio\", \"francesco\", \"zeno\"]\n",
    "mapped = map( str.upper, lista )\n",
    "\n",
    "list(mapped)"
   ]
  },
  {
   "cell_type": "code",
   "execution_count": null,
   "id": "29be4a3b",
   "metadata": {},
   "outputs": [
    {
     "data": {
      "text/plain": [
       "<filter at 0x7f9265dc3580>"
      ]
     },
     "execution_count": 21,
     "metadata": {},
     "output_type": "execute_result"
    }
   ],
   "source": [
    "# La funzione filter() invece richiede una funzione che restituisca un\n",
    "# booleano, e filtra tutti gli elementi per i quali la funzione\n",
    "# restituisce False.\n",
    "# La sintassi è filter(funzione, iterabile)\n",
    "# Come esempio, definizmo una funzione lambda che restituisce True\n",
    "# se la lettera 'a' è contenuta nella stringa\n",
    "\n",
    "filter(lambda x: 'a' in x, lista)"
   ]
  },
  {
   "cell_type": "code",
   "execution_count": 22,
   "id": "414cfc4e",
   "metadata": {},
   "outputs": [
    {
     "data": {
      "text/plain": [
       "['alessio', 'francesco']"
      ]
     },
     "execution_count": 22,
     "metadata": {},
     "output_type": "execute_result"
    }
   ],
   "source": [
    "# Come ne caso precedente anche filter non restituisce un oggetto\n",
    "# leggibile, ma lo diventa usando list()\n",
    "\n",
    "lista_filtrata = filter(lambda x: 'a' in x, lista)\n",
    "list(lista_filtrata)"
   ]
  },
  {
   "cell_type": "code",
   "execution_count": 25,
   "id": "10912637",
   "metadata": {},
   "outputs": [
    {
     "name": "stdout",
     "output_type": "stream",
     "text": [
      "[12, 3]\n"
     ]
    }
   ],
   "source": [
    "# Esempio numerico\n",
    "\n",
    "v = [2.1, 12, 2.4, 4.3, 3]\n",
    "\n",
    "filtered = list(filter(lambda x: isinstance(x, int), v))\n",
    "print(filtered)"
   ]
  },
  {
   "cell_type": "code",
   "execution_count": null,
   "id": "0597f56d",
   "metadata": {},
   "outputs": [],
   "source": []
  }
 ],
 "metadata": {
  "kernelspec": {
   "display_name": "CVE",
   "language": "python",
   "name": "python3"
  },
  "language_info": {
   "codemirror_mode": {
    "name": "ipython",
    "version": 3
   },
   "file_extension": ".py",
   "mimetype": "text/x-python",
   "name": "python",
   "nbconvert_exporter": "python",
   "pygments_lexer": "ipython3",
   "version": "3.8.10"
  }
 },
 "nbformat": 4,
 "nbformat_minor": 5
}
