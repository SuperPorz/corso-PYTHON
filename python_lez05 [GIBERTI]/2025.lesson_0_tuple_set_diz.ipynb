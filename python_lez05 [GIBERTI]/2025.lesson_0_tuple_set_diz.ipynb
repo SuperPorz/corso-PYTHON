{
 "cells": [
  {
   "cell_type": "markdown",
   "id": "4eb8197e",
   "metadata": {},
   "source": [
    "### Tuple ###"
   ]
  },
  {
   "cell_type": "code",
   "execution_count": 2,
   "id": "59581c0b",
   "metadata": {},
   "outputs": [
    {
     "ename": "TypeError",
     "evalue": "'tuple' object does not support item assignment",
     "output_type": "error",
     "traceback": [
      "\u001b[0;31m---------------------------------------------------------------------------\u001b[0m",
      "\u001b[0;31mTypeError\u001b[0m                                 Traceback (most recent call last)",
      "Cell \u001b[0;32mIn[2], line 14\u001b[0m\n\u001b[1;32m     11\u001b[0m tupla[\u001b[38;5;241m0\u001b[39m] \u001b[38;5;66;03m# é il primo elemento come nelle listre\u001b[39;00m\n\u001b[1;32m     13\u001b[0m \u001b[38;5;66;03m# sono immutabili: \u001b[39;00m\n\u001b[0;32m---> 14\u001b[0m \u001b[43mtupla\u001b[49m\u001b[43m[\u001b[49m\u001b[38;5;241;43m1\u001b[39;49m\u001b[43m]\u001b[49m \u001b[38;5;241m=\u001b[39m \u001b[38;5;241m5\u001b[39m\n",
      "\u001b[0;31mTypeError\u001b[0m: 'tuple' object does not support item assignment"
     ]
    }
   ],
   "source": [
    "# Una tupla è una sequenza di oggetti ordinata e non mutabile\n",
    "\n",
    "tupla = ()     # tupla vuota\n",
    "\n",
    "tupla = (1,2,3, \"A\")\n",
    "\n",
    "# le tuple hanno una maggiore velocità di elaborazione e accesso in memenoria\n",
    "\n",
    "# accesso agli elementi:\n",
    "\n",
    "tupla[0] # é il primo elemento come nelle listre\n",
    "\n",
    "# sono immutabili: \n",
    "tupla[1] = 5\n",
    "\n",
    "\n"
   ]
  },
  {
   "cell_type": "code",
   "execution_count": 6,
   "id": "a8bc004f",
   "metadata": {},
   "outputs": [
    {
     "data": {
      "text/plain": [
       "(1, 2, 1)"
      ]
     },
     "execution_count": 6,
     "metadata": {},
     "output_type": "execute_result"
    }
   ],
   "source": [
    "# Possono essere concatenate col simbolo +\n",
    "\n",
    "(1,2) + (3,4,5)\n",
    "\n",
    "# Se volgio fare una tupla con un solo elemento devo usare questa sintassi:\n",
    "(1,2) + (1,)"
   ]
  },
  {
   "cell_type": "markdown",
   "id": "fdeb3742",
   "metadata": {},
   "source": [
    "### I dizionari in Python ###"
   ]
  },
  {
   "cell_type": "code",
   "execution_count": 19,
   "id": "407d0d59",
   "metadata": {},
   "outputs": [],
   "source": [
    "# I dizionari sono collezioni mutabili e ordinate di coppie chiave-valore\n",
    "\n",
    "# dizonario vuoto\n",
    "dizionario = {}\n",
    "\n",
    "# dizionario non vuoto:\n",
    "diz = {\"A\": 1, \"B\": 2, \"C\": 3} "
   ]
  },
  {
   "cell_type": "code",
   "execution_count": 20,
   "id": "1e6594e8",
   "metadata": {},
   "outputs": [
    {
     "data": {
      "text/plain": [
       "1"
      ]
     },
     "execution_count": 20,
     "metadata": {},
     "output_type": "execute_result"
    }
   ],
   "source": [
    "# accesso agli elementi\n",
    "diz[\"A\"]"
   ]
  },
  {
   "cell_type": "code",
   "execution_count": 21,
   "id": "22ce5f41",
   "metadata": {},
   "outputs": [],
   "source": [
    "# supporta gli assigment:\n",
    "diz[\"B\"] = (1,3,6)"
   ]
  },
  {
   "cell_type": "code",
   "execution_count": 22,
   "id": "a92536eb",
   "metadata": {},
   "outputs": [
    {
     "name": "stdout",
     "output_type": "stream",
     "text": [
      "{'A': 1, 'B': (1, 3, 6), 'C': 3}\n"
     ]
    }
   ],
   "source": [
    "print(diz)"
   ]
  },
  {
   "cell_type": "code",
   "execution_count": 23,
   "id": "690f5723",
   "metadata": {},
   "outputs": [
    {
     "name": "stdout",
     "output_type": "stream",
     "text": [
      "dict_keys(['A', 'B', 'C'])\n"
     ]
    }
   ],
   "source": [
    "# il dizionario in python è una classe con vari metodi\n",
    "\n",
    "# ad esempio: vediamo la lista delle chiavi e valori\n",
    "print(diz.keys())"
   ]
  },
  {
   "cell_type": "code",
   "execution_count": 24,
   "id": "bc22803f",
   "metadata": {},
   "outputs": [
    {
     "data": {
      "text/plain": [
       "['A', 'B', 'C']"
      ]
     },
     "execution_count": 24,
     "metadata": {},
     "output_type": "execute_result"
    }
   ],
   "source": [
    "# è un oggetto di tipo dict_keys, che è un iterable\n",
    "\n",
    "list(diz.keys())"
   ]
  },
  {
   "cell_type": "code",
   "execution_count": 25,
   "id": "30a5e63a",
   "metadata": {},
   "outputs": [
    {
     "data": {
      "text/plain": [
       "dict_values([1, (1, 3, 6), 3])"
      ]
     },
     "execution_count": 25,
     "metadata": {},
     "output_type": "execute_result"
    }
   ],
   "source": [
    " # per ottenere la lista dei valori:\n",
    "\n",
    "diz.values()"
   ]
  },
  {
   "cell_type": "code",
   "execution_count": 26,
   "id": "d63c638b",
   "metadata": {},
   "outputs": [
    {
     "name": "stdout",
     "output_type": "stream",
     "text": [
      "1\n",
      "(1, 3, 6)\n",
      "3\n"
     ]
    }
   ],
   "source": [
    "# Possiamo eseguire cicli for su questi oggetti iterable:\n",
    "\n",
    "for k in diz.keys():\n",
    "    print(diz[k])"
   ]
  },
  {
   "cell_type": "code",
   "execution_count": null,
   "id": "c0c6251d",
   "metadata": {},
   "outputs": [
    {
     "name": "stdout",
     "output_type": "stream",
     "text": [
      "A 1\n",
      "B (1, 3, 6)\n",
      "C 3\n"
     ]
    }
   ],
   "source": [
    "# Si può fare un ciclo direttamente sul'oggetto (chiave, valore):\n",
    "\n",
    "for k, v in diz.items():\n",
    "    print(k, v)"
   ]
  },
  {
   "cell_type": "code",
   "execution_count": 28,
   "id": "7068ee9c",
   "metadata": {},
   "outputs": [],
   "source": [
    "# un dizionario si può inzializzare con il metodo dict()\n",
    "\n",
    "d = dict()  # dizionario vuoto"
   ]
  },
  {
   "cell_type": "markdown",
   "id": "a6ff477d",
   "metadata": {},
   "source": [
    "### i set in python ###"
   ]
  },
  {
   "cell_type": "code",
   "execution_count": 20,
   "id": "7b2679e4",
   "metadata": {},
   "outputs": [
    {
     "name": "stdout",
     "output_type": "stream",
     "text": [
      "{1, 2, 3, 4, 5}\n"
     ]
    }
   ],
   "source": [
    "# un set in pythonn è una collezione non ordinata di oggetti\n",
    "# in cui non ci sono duplicati\n",
    "\n",
    "set_vuoto = set()\n",
    "\n",
    "# è come un dizonario che contiene solo chiavi e non valori\n",
    "\n",
    "# un set può essere creato a partire da una lista o da una tupla\n",
    "\n",
    "l = [1,2,3,4,5, 5, 5, 5]\n",
    "\n",
    "s = set(l)  # rimuove i duplicati\n",
    "print(s)"
   ]
  },
  {
   "cell_type": "code",
   "execution_count": 22,
   "id": "3ff9b8b9",
   "metadata": {},
   "outputs": [
    {
     "name": "stdout",
     "output_type": "stream",
     "text": [
      "{'c', 'b', 'a'}\n"
     ]
    }
   ],
   "source": [
    "# un set si può definire con le parentesi graffe:\n",
    "\n",
    "set1 = {'a','b','c'}\n",
    "print(set1)"
   ]
  },
  {
   "cell_type": "code",
   "execution_count": null,
   "id": "ffb829a8",
   "metadata": {},
   "outputs": [],
   "source": []
  }
 ],
 "metadata": {
  "kernelspec": {
   "display_name": "CVE",
   "language": "python",
   "name": "python3"
  },
  "language_info": {
   "codemirror_mode": {
    "name": "ipython",
    "version": 3
   },
   "file_extension": ".py",
   "mimetype": "text/x-python",
   "name": "python",
   "nbconvert_exporter": "python",
   "pygments_lexer": "ipython3",
   "version": "3.8.10"
  }
 },
 "nbformat": 4,
 "nbformat_minor": 5
}
